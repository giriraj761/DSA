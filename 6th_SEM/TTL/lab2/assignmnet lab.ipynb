{
 "cells": [
  {
   "cell_type": "code",
   "execution_count": 12,
   "metadata": {},
   "outputs": [],
   "source": [
    "# 1. Write a Python program to convert a tuple to a string..\n",
    "# 2. Write a Python program to find the repeated items of a tuple\n",
    "# 3. Write a Python program to convert a list to a tuple..\n",
    "# 4. Write a Python program to reverse a tuple.\n",
    "# 5. Write a Python program to remove an empty tuple(s) from a list oftuples\n",
    "# 6. Write a Python program to replace middle value of tuples in a list.\n",
    "# 7. Write a Python program to get the 5th element and 5th element from last of a tuple.\n",
    "# 8. Write a Python program to check if two given sets have no elements in common.\n",
    "# 9. Write a Python program to check whether an element exists within a tuple.\n",
    "# 10. Write a Python program to check if a given value is present in a set or not.\n",
    "# 11. Write a Python program to check if a given set is superset of itself and superset of another given set.\n",
    "# 12. Write a Python program to create a union, intersection, difference, symmetric difference of sets.\n",
    "# 13. Write a Python program to remove the intersection of a 2nd set from the 1stset."
   ]
  },
  {
   "cell_type": "code",
   "execution_count": 13,
   "metadata": {},
   "outputs": [
    {
     "name": "stdout",
     "output_type": "stream",
     "text": [
      "2334652\n"
     ]
    }
   ],
   "source": [
    "# q1\n",
    "t = (23,34,65,2)\n",
    "li = list(t)\n",
    "lim = map(str,li)\n",
    "s=\"\"\n",
    "s = s.join(lim)\n",
    "print(s)"
   ]
  },
  {
   "cell_type": "code",
   "execution_count": 14,
   "metadata": {},
   "outputs": [
    {
     "name": "stdout",
     "output_type": "stream",
     "text": [
      "[1, 3, 8]\n"
     ]
    }
   ],
   "source": [
    "# q2\n",
    "tup = (1,1,2,3,4,5,6,7,8,8,3,1)\n",
    "tup = sorted(tup)\n",
    "li = []\n",
    "[li.append(i) for i in tup if tup.count(i)>1 and i not in li] \n",
    "print(li)"
   ]
  },
  {
   "cell_type": "code",
   "execution_count": 15,
   "metadata": {},
   "outputs": [
    {
     "name": "stdout",
     "output_type": "stream",
     "text": [
      "(1, 1, 2, 3, 4, 5, 6, 7, 8, 8, 3, 1)\n"
     ]
    }
   ],
   "source": [
    "# q3\n",
    "listt = [1,1,2,3,4,5,6,7,8,8,3,1]\n",
    "tt = tuple(listt)\n",
    "print(tt)"
   ]
  },
  {
   "cell_type": "code",
   "execution_count": 16,
   "metadata": {},
   "outputs": [
    {
     "name": "stdout",
     "output_type": "stream",
     "text": [
      "(1, 3, 8, 8, 7, 6, 5, 4, 3, 2, 1, 1)\n"
     ]
    }
   ],
   "source": [
    "# q4\n",
    "rev = tt[::-1]\n",
    "print(rev)"
   ]
  },
  {
   "cell_type": "code",
   "execution_count": 17,
   "metadata": {},
   "outputs": [
    {
     "name": "stdout",
     "output_type": "stream",
     "text": [
      "[(1, 2, 3), (3, 4, 5), (5, 6, 7)]\n"
     ]
    }
   ],
   "source": [
    "# q5\n",
    "listt = [(1,2,3),(),(3,4,5),(5,6,7)]\n",
    "nonemptylistt = []\n",
    "nonemptylistt = [i for i in listt if i]\n",
    "print(nonemptylistt)"
   ]
  },
  {
   "cell_type": "code",
   "execution_count": 18,
   "metadata": {},
   "outputs": [
    {
     "data": {
      "text/plain": [
       "[(1, 10, 3), (3, 10, 5), (5, 10, 7)]"
      ]
     },
     "execution_count": 18,
     "metadata": {},
     "output_type": "execute_result"
    }
   ],
   "source": [
    "# q6\n",
    "[(*i[:1],10,*i[2:]) for i in nonemptylistt]"
   ]
  },
  {
   "cell_type": "code",
   "execution_count": 27,
   "metadata": {},
   "outputs": [
    {
     "name": "stdout",
     "output_type": "stream",
     "text": [
      "5 10\n"
     ]
    }
   ],
   "source": [
    "# q7\n",
    "a = (1,2,3,4,5,6,7,8,9,10,11,12,13,20)\n",
    "print(a[4],a[-5])"
   ]
  },
  {
   "cell_type": "code",
   "execution_count": 20,
   "metadata": {},
   "outputs": [
    {
     "name": "stdout",
     "output_type": "stream",
     "text": [
      "yes there is common\n",
      "no common elements\n"
     ]
    }
   ],
   "source": [
    "# q8\n",
    "s1 = set()\n",
    "s1.add(12)\n",
    "s1.add(13)\n",
    "s1.add(14)\n",
    "s2 = set()\n",
    "s2.add(13)\n",
    "s2.add(45)\n",
    "s2.add(4)\n",
    "s3 = set()\n",
    "s3.add(0)\n",
    "\n",
    "if  s1.isdisjoint(s2) == False:\n",
    "    print(\"yes there is common\")\n",
    "else:\n",
    "    print(\"no common elements\")\n",
    "    \n",
    "if  s1.isdisjoint(s3) == False:\n",
    "    print(\"yes there is common\")\n",
    "else:\n",
    "    print(\"no common elements\")"
   ]
  },
  {
   "cell_type": "code",
   "execution_count": 21,
   "metadata": {},
   "outputs": [
    {
     "name": "stdout",
     "output_type": "stream",
     "text": [
      "4\n"
     ]
    }
   ],
   "source": [
    "# q9\n",
    "x = int(input(\"enter element to search\"))\n",
    "if x in a :\n",
    "    print(a.index(x))\n",
    "else:\n",
    "    print(\"not in tuple\")"
   ]
  },
  {
   "cell_type": "code",
   "execution_count": 22,
   "metadata": {},
   "outputs": [
    {
     "name": "stdout",
     "output_type": "stream",
     "text": [
      "not in set\n"
     ]
    }
   ],
   "source": [
    "# q10\n",
    "z = int(input(\"enter element to search\"))\n",
    "if z in s1 :\n",
    "    print(\"yes it is there in the set\")\n",
    "else:\n",
    "    print(\"not in set\")"
   ]
  },
  {
   "cell_type": "code",
   "execution_count": 23,
   "metadata": {},
   "outputs": [
    {
     "name": "stdout",
     "output_type": "stream",
     "text": [
      "yes s1 is a superset of itself\n",
      "s1 is not a super set of s2\n",
      "yes s1 is a superset of s4\n"
     ]
    }
   ],
   "source": [
    "# q11\n",
    "s4 = set()\n",
    "if s1.issuperset(s1):\n",
    "    print(\"yes s1 is a superset of itself\")\n",
    "else:\n",
    "    print(\"s1 is not a super set of itself\")\n",
    "    \n",
    "if s1.issuperset(s2):\n",
    "    print(\"yes s1 is a superset of s2\")\n",
    "else:\n",
    "    print(\"s1 is not a super set of s2\")\n",
    "    \n",
    "if s1.issuperset(s1):\n",
    "    print(\"yes s1 is a superset of s4\")\n",
    "else:\n",
    "    print(\"s1 is not a super set of s4\")"
   ]
  },
  {
   "cell_type": "code",
   "execution_count": 24,
   "metadata": {},
   "outputs": [
    {
     "name": "stdout",
     "output_type": "stream",
     "text": [
      "{12, 13, 14}\n",
      "{45, 4, 13}\n",
      "intersection is {13} \n",
      "difference is {12, 14} \n",
      "symmetric difference  is {4, 12, 45, 14} \n",
      "union is {45, 4, 12, 13, 14} \n"
     ]
    }
   ],
   "source": [
    "# q12\n",
    "print(s1)\n",
    "print(s2)\n",
    "print(\"intersection is {} \".format(s1.intersection(s2)))\n",
    "print(\"difference is {} \".format(s1.difference(s2)))\n",
    "print(\"symmetric difference  is {} \".format(s1.symmetric_difference(s2)))\n",
    "print(\"union is {} \".format(s1.union(s2)))"
   ]
  },
  {
   "cell_type": "code",
   "execution_count": 29,
   "metadata": {},
   "outputs": [
    {
     "name": "stdout",
     "output_type": "stream",
     "text": [
      "{2, 3, 4, 5, 6, 7}\n"
     ]
    }
   ],
   "source": [
    "# q13\n",
    "set1 = set()\n",
    "set1.add(1)\n",
    "set1.add(2)\n",
    "set1.add(3)\n",
    "set1.add(4)\n",
    "set2 = set()\n",
    "set2.add(1)\n",
    "set2.add(5)\n",
    "set2.add(6)\n",
    "set2.add(7)\n",
    "\n",
    "setnew = set1.union(set2) - set1.intersection(set2)\n",
    "print(setnew)"
   ]
  },
  {
   "cell_type": "code",
   "execution_count": 26,
   "metadata": {},
   "outputs": [
    {
     "name": "stdout",
     "output_type": "stream",
     "text": [
      "[1, 2, 3, 4, 5, 6, 7, 8]\n",
      "[1, 2, 3, 4, 5, 6, 7, 8]\n"
     ]
    }
   ],
   "source": [
    "# removing duplicate item fron the list\n",
    "li = [1,1,2,3,4,5,6,7,8,8,3,1]\n",
    "linew = []\n",
    "[linew.append(i) for i in li if i not in linew]\n",
    "print(linew)\n",
    "print( list(set(li)))"
   ]
  }
 ],
 "metadata": {
  "kernelspec": {
   "display_name": "Python 3",
   "language": "python",
   "name": "python3"
  },
  "language_info": {
   "codemirror_mode": {
    "name": "ipython",
    "version": 3
   },
   "file_extension": ".py",
   "mimetype": "text/x-python",
   "name": "python",
   "nbconvert_exporter": "python",
   "pygments_lexer": "ipython3",
   "version": "3.11.1"
  },
  "orig_nbformat": 4,
  "vscode": {
   "interpreter": {
    "hash": "5c16144c77acfa8bb95211d46b52562664bf59767f626198b4dd4a3fa9879d72"
   }
  }
 },
 "nbformat": 4,
 "nbformat_minor": 2
}
