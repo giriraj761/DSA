{
 "cells": [
  {
   "cell_type": "code",
   "execution_count": 16,
   "metadata": {},
   "outputs": [
    {
     "name": "stdout",
     "output_type": "stream",
     "text": [
      "{'g': 1, 'i': 2, 't': 1}\n"
     ]
    }
   ],
   "source": [
    "#q1\n",
    "s = str(input(\"enter a string\"))\n",
    "dict = {}\n",
    "for i in s:\n",
    "    if i not in dict:\n",
    "        x = s.count(i)\n",
    "        dict[i] = x\n",
    "print(dict)"
   ]
  },
  {
   "cell_type": "code",
   "execution_count": 17,
   "metadata": {},
   "outputs": [
    {
     "name": "stdout",
     "output_type": "stream",
     "text": [
      "{1: 'a', 2: 'b', 3: 'c', 4: 'd', 5: 'e'}\n"
     ]
    }
   ],
   "source": [
    "#q2\n",
    "li1 = [1,2,3,4,5]\n",
    "li2 = ['a','b','c','d','e']\n",
    "dict1 = {}\n",
    "\n",
    "for i in range(0,5):\n",
    "    dict1[li1[i]]=li2[i]\n",
    "print(dict1)"
   ]
  },
  {
   "cell_type": "code",
   "execution_count": 18,
   "metadata": {},
   "outputs": [
    {
     "name": "stdout",
     "output_type": "stream",
     "text": [
      "{'g': 1, 'i': 2, 't': 1, 'a': 1}\n"
     ]
    }
   ],
   "source": [
    "#q3\n",
    "dict2={'a':1}\n",
    "dict.update(dict2)\n",
    "print(dict)\n"
   ]
  },
  {
   "cell_type": "code",
   "execution_count": 19,
   "metadata": {},
   "outputs": [],
   "source": [
    "#q4\n",
    "dictlist = {\"class\":1,\"roll\":2,\"name \":\"raj\",\"college\":\"kiit\",}"
   ]
  },
  {
   "cell_type": "code",
   "execution_count": 20,
   "metadata": {},
   "outputs": [
    {
     "name": "stdout",
     "output_type": "stream",
     "text": [
      "{'class': '34', 'roll': '34', 'name ': '34', 'college': '32'}\n"
     ]
    }
   ],
   "source": [
    "#q5\n",
    "newdict ={}\n",
    "for i  in dictlist.keys():\n",
    "    x = input(\"enter value to insert in to new dictionary\")\n",
    "    newdict[i]=x\n",
    "    \n",
    "print(newdict)"
   ]
  },
  {
   "cell_type": "code",
   "execution_count": 21,
   "metadata": {},
   "outputs": [
    {
     "name": "stdout",
     "output_type": "stream",
     "text": [
      "{'roll': 2, 'college': 'kiit'}\n"
     ]
    }
   ],
   "source": [
    "#q6\n",
    "dictlist = {\"class\":1,\"roll\":2,\"name\":\"raj\",\"college\":\"kiit\",}\n",
    "list = (\"class\",\"name\")\n",
    "\n",
    "for i in list:\n",
    "        dictlist.pop(i,None)\n",
    "        \n",
    "print(dictlist)\n"
   ]
  },
  {
   "cell_type": "code",
   "execution_count": 32,
   "metadata": {},
   "outputs": [
    {
     "name": "stdout",
     "output_type": "stream",
     "text": [
      "no the value are not present\n"
     ]
    }
   ],
   "source": [
    "#q7\n",
    "value = \"kiit\"\n",
    "for i in dictlist.keys():\n",
    "    if  dictlist[i] == value:\n",
    "        print(\"yes value exists = {} \".format(i))\n",
    "        break   \n",
    "else:\n",
    "    print(\"no the value are not present\")"
   ]
  },
  {
   "cell_type": "code",
   "execution_count": 23,
   "metadata": {},
   "outputs": [
    {
     "name": "stdout",
     "output_type": "stream",
     "text": [
      "{'roll': 2, 'University': 'kiit'}\n"
     ]
    }
   ],
   "source": [
    "#q8\n",
    "newkey = 'University'\n",
    "oldkey = 'college'\n",
    "if newkey!=oldkey:  \n",
    "    dictlist[newkey] = dictlist[oldkey]\n",
    "    del dictlist[oldkey]\n",
    "    \n",
    "print(dictlist)\n",
    "# for x in dictlist.keys():\n",
    "    "
   ]
  },
  {
   "cell_type": "code",
   "execution_count": 35,
   "metadata": {},
   "outputs": [
    {
     "name": "stdout",
     "output_type": "stream",
     "text": [
      "b : 2\n"
     ]
    }
   ],
   "source": [
    "#q9\n",
    "d = {'a': 100, 'b': 2,  'c': 3, 'd': 4}\n",
    "mini = 999\n",
    "minkey = ''\n",
    "for i in d.keys():\n",
    "    # print(i)\n",
    "    if d[i]< mini:\n",
    "        mini = d[i]\n",
    "        minkey = i\n",
    "\n",
    "print(minkey,\":\",mini)\n",
    "    "
   ]
  },
  {
   "cell_type": "code",
   "execution_count": 25,
   "metadata": {},
   "outputs": [
    {
     "name": "stdout",
     "output_type": "stream",
     "text": [
      "{'emp1': {'name': 'Lisa', 'age': 29, 'designation': 'Programmer'}, 'emp2': {'name': 'Steve', 'age': 45, 'designation': 'HR'}}\n",
      "{'emp1': {'name': 'Krishna', 'age': 29, 'designation': 'Programmer'}, 'emp2': {'name': 'Steve', 'age': 45, 'designation': 'HR'}}\n"
     ]
    }
   ],
   "source": [
    "# q10\n",
    "employees = {\n",
    "    'emp1':\n",
    "    {\n",
    "        'name': 'Lisa',\n",
    "        'age': 29,\n",
    "        'designation': 'Programmer'\n",
    "    },\n",
    "    'emp2':\n",
    "    {\n",
    "        'name': 'Steve',\n",
    "        'age': 45,\n",
    "        'designation': 'HR'\n",
    "    }\n",
    "}\n",
    "print(employees)\n",
    "employees['emp1']['name'] = \"Krishna\"\n",
    "print(employees)\n"
   ]
  },
  {
   "cell_type": "code",
   "execution_count": null,
   "metadata": {},
   "outputs": [],
   "source": []
  }
 ],
 "metadata": {
  "kernelspec": {
   "display_name": "Python 3",
   "language": "python",
   "name": "python3"
  },
  "language_info": {
   "codemirror_mode": {
    "name": "ipython",
    "version": 3
   },
   "file_extension": ".py",
   "mimetype": "text/x-python",
   "name": "python",
   "nbconvert_exporter": "python",
   "pygments_lexer": "ipython3",
   "version": "3.11.1"
  },
  "orig_nbformat": 4,
  "vscode": {
   "interpreter": {
    "hash": "5c16144c77acfa8bb95211d46b52562664bf59767f626198b4dd4a3fa9879d72"
   }
  }
 },
 "nbformat": 4,
 "nbformat_minor": 2
}
