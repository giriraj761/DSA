{
 "cells": [
  {
   "cell_type": "code",
   "execution_count": 1,
   "metadata": {},
   "outputs": [
    {
     "name": "stdout",
     "output_type": "stream",
     "text": [
      "220\n"
     ]
    }
   ],
   "source": [
    "#Q14\n",
    "num = int(input(\"enter the range for the series 1 + ( 1 + 2 ) + ( 1 + 2 + 3 )...\"))\n",
    "print( (num * ( num + 1 ) * ( 2 * num + 4 )) // 12 )"
   ]
  },
  {
   "cell_type": "code",
   "execution_count": 148,
   "metadata": {},
   "outputs": [
    {
     "name": "stdout",
     "output_type": "stream",
     "text": [
      "\n",
      "* \n",
      "* * \n",
      "* * * \n",
      "* * * * \n",
      "* * * * * \n",
      "* * * * * * \n"
     ]
    }
   ],
   "source": [
    "#q15\n",
    "for i in range(0, 7):\n",
    "    for j in range(0, i):    \n",
    "        print('*', end=' ')\n",
    "    print()"
   ]
  },
  {
   "cell_type": "code",
   "execution_count": 151,
   "metadata": {},
   "outputs": [
    {
     "name": "stdout",
     "output_type": "stream",
     "text": [
      "    * \n",
      "   * * \n",
      "  * * * \n",
      " * * * * \n",
      "* * * * * \n"
     ]
    }
   ],
   "source": [
    "#q16\n",
    "n = 5\n",
    "k = n \n",
    "for i in range(1, n+1):\n",
    "    for j in range(1, k):\n",
    "        print(end=\" \")\n",
    "    k = k - 1\n",
    "    for j in range(1, i + 1):\n",
    "        print('* ',end=\"\")\n",
    "    print(\"\")"
   ]
  },
  {
   "cell_type": "code",
   "execution_count": 115,
   "metadata": {},
   "outputs": [
    {
     "name": "stdout",
     "output_type": "stream",
     "text": [
      "\n",
      "1 \n",
      "0 1 \n",
      "1 0 1 \n",
      "0 1 0 1 \n",
      "1 0 1 0 1 \n",
      "0 1 0 1 0 1 \n"
     ]
    }
   ],
   "source": [
    "#q17\n",
    "for i in range(0, 7):\n",
    "    for j in range(0, i):\n",
    "        if (i+j) % 2 == 0:\n",
    "            print(0, end=' ')\n",
    "        else:\n",
    "            print(1, end=' ')\n",
    "    print()\n"
   ]
  },
  {
   "cell_type": "code",
   "execution_count": 116,
   "metadata": {},
   "outputs": [
    {
     "name": "stdout",
     "output_type": "stream",
     "text": [
      "A \n",
      "B A \n",
      "C B A \n",
      "D C B A \n",
      "E D C B A \n"
     ]
    }
   ],
   "source": [
    "#q18\n",
    "a = 65\n",
    "for i in range(0, 5):\n",
    "    for j in range(0,i+1):\n",
    "        print(chr(a), end=' ')\n",
    "        a-=1;\n",
    "    a = 65+i+1\n",
    "    print()\n"
   ]
  },
  {
   "cell_type": "code",
   "execution_count": 117,
   "metadata": {},
   "outputs": [
    {
     "name": "stdout",
     "output_type": "stream",
     "text": [
      "1 \n",
      "2 1 \n",
      "1 2 3 \n",
      "4 3 2 1 \n",
      "1 2 3 4 5 \n"
     ]
    }
   ],
   "source": [
    "#q19\n",
    "for i in range(0, 5):\n",
    "    if i%2==0:\n",
    "        for j in range(0,i+1):\n",
    "            print(j+1, end=' ')\n",
    "    else:\n",
    "        for j in range(i+1,0,-1):\n",
    "            print(j, end=' ')\n",
    "    print()"
   ]
  },
  {
   "cell_type": "code",
   "execution_count": 118,
   "metadata": {},
   "outputs": [
    {
     "name": "stdout",
     "output_type": "stream",
     "text": [
      "       123454321\n",
      "        1234321\n",
      "         12321\n",
      "          121\n",
      "           1\n",
      "            \n",
      "             \n",
      "              \n"
     ]
    }
   ],
   "source": [
    "#q20 \n",
    "n = 7\n",
    "k = n\n",
    "a = n - 2\n",
    "for i in range(n, -1, -1):\n",
    "    \n",
    "    for j in range(k, 0, -1):\n",
    "        print(end=\" \")\n",
    "    k = k + 1\n",
    "    for j in range(0,a):\n",
    "        print(j+1, end=\"\")\n",
    "    for l in range(a,1,-1):\n",
    "        print(l-1,end='')\n",
    "    a-=1;  \n",
    "    print(\"\")\n"
   ]
  },
  {
   "cell_type": "code",
   "execution_count": 119,
   "metadata": {},
   "outputs": [
    {
     "name": "stdout",
     "output_type": "stream",
     "text": [
      "    1 \n",
      "   1 1 \n",
      "  1 2 1 \n",
      " 1 3 3 1 \n",
      "1 4 6 4 1 \n"
     ]
    }
   ],
   "source": [
    "# q21\n",
    "n = 5\n",
    "k = n \n",
    "for i in range(1, n+1):\n",
    "    for j in range(1, k):\n",
    "        print(end=\" \")\n",
    "    k = k - 1\n",
    "    coff = 1\n",
    "    for j in range(1, i + 1):\n",
    "        print(\"{} \".format(coff), end=\"\")\n",
    "        coff = coff * (i - j)//j\n",
    "    print(\"\")\n"
   ]
  },
  {
   "cell_type": "code",
   "execution_count": 6,
   "metadata": {},
   "outputs": [
    {
     "name": "stdout",
     "output_type": "stream",
     "text": [
      "K I I T C S I T T I S C T I I K \n",
      "K I I T C S I     I S C T I I K \n",
      "K I I T C S         S C T I I K \n",
      "K I I T C             C T I I K \n",
      "K I I T                 T I I K \n",
      "K I I                     I I K \n",
      "K I                         I K \n",
      "K                             K \n",
      "K                             K \n",
      "K I                         I K \n",
      "K I I                     I I K \n",
      "K I I T                 T I I K \n",
      "K I I T C             C T I I K \n",
      "K I I T C S         S C T I I K \n",
      "K I I T C S I     I S C T I I K \n",
      "K I I T C S I T T I S C T I I K \n"
     ]
    }
   ],
   "source": [
    "#q22\n",
    "s = 'KIITCSIT'\n",
    "s = s + s[::-1]\n",
    "n = int(len(s))//2\n",
    "k = n\n",
    "for i in range(1, n+1):\n",
    "        for j in range(1, k+1):\n",
    "            print(s[j-1],end=\" \")\n",
    "        for j in range(1, 2*i-1):\n",
    "            print('  ',end=\"\")\n",
    "        for j in range(k,0,-1):\n",
    "            print(s[j-1],end=\" \")\n",
    "        k = k - 1    \n",
    "        print(\"\")\n",
    "n = int(len(s))//2\n",
    "k = n\n",
    "for i in range(1, n+1):\n",
    "    for j in range(1, i+1):\n",
    "        print(s[j-1],end=\" \")\n",
    "        \n",
    "    for j in range(1, 2*k-1):\n",
    "        print('  ',end=\"\")        \n",
    "    for j in range(i,0,-1):\n",
    "        print(s[j-1],end=\" \")\n",
    "    k = k - 1    \n",
    "    print(\"\")"
   ]
  },
  {
   "cell_type": "code",
   "execution_count": 7,
   "metadata": {},
   "outputs": [
    {
     "name": "stdout",
     "output_type": "stream",
     "text": [
      "1100\n"
     ]
    }
   ],
   "source": [
    "#q23\n",
    "def decTObase(x,b):\n",
    "    num = \"\"\n",
    "    while(x>0):\n",
    "        num = num + str(x%b)\n",
    "        x = x//b\n",
    "    return num[::-1]\n",
    "\n",
    "x = int(input(\"enter a decimal number :\"))\n",
    "b = int(input(\"enter the base :\"))\n",
    "print(decTObase(x,b))"
   ]
  },
  {
   "cell_type": "code",
   "execution_count": 9,
   "metadata": {},
   "outputs": [
    {
     "name": "stdout",
     "output_type": "stream",
     "text": [
      "its decimal equivalence is : 12 \n"
     ]
    }
   ],
   "source": [
    "#q24\n",
    "def numberToDec(x,b):\n",
    "    num = 0\n",
    "    i=0\n",
    "    while(x>0):\n",
    "        num += (x%10)*pow(b,i)\n",
    "        i+=1\n",
    "        x=x//10\n",
    "    return(num)\n",
    "    \n",
    "num = int(input(\"enter a number to convert to decimal :\"))\n",
    "b = int(input(\"enter the base :\"))\n",
    "print(\"its decimal equivalence is : {} \".format(numberToDec(num,b)))\n"
   ]
  },
  {
   "cell_type": "code",
   "execution_count": 10,
   "metadata": {},
   "outputs": [
    {
     "name": "stdout",
     "output_type": "stream",
     "text": [
      "its octal equivalent is : 55\n",
      "its hexadecimal equivalent is : 0x2D\n"
     ]
    }
   ],
   "source": [
    "#q25\n",
    "def toDecimal(x):\n",
    "    num = 0\n",
    "    i=0\n",
    "    while(x>0):\n",
    "        num += (x%10)*pow(2,i)\n",
    "        i+=1\n",
    "        x=x//10\n",
    "    return(num)\n",
    "\n",
    "def toOctal(x,b):\n",
    "    num = \"\"\n",
    "    while(x>0):\n",
    "        num = num + str(x%b)\n",
    "        x = x//b\n",
    "    return num[::-1]\n",
    "\n",
    "def toHEXA(x):\n",
    "    num = \"\"\n",
    "    while(x>0):\n",
    "        ch = int(x%16)\n",
    "        res = ''\n",
    "        if(ch>9):\n",
    "            val = 65 + (ch - 10)\n",
    "            val = chr(val)\n",
    "            res = str(val)\n",
    "        else:\n",
    "            res = str(ch)\n",
    "        num = num + res\n",
    "        x = x // 16\n",
    "        \n",
    "    return num[::-1]\n",
    "\n",
    "num = int(input(\"enter a binary number :\"))\n",
    "dec = toDecimal(num)\n",
    "print(\"its octal equivalent is : {}\".format(toOctal(dec,8)))\n",
    "print(\"its hexadecimal equivalent is : 0x{}\".format(toHEXA(dec)))"
   ]
  },
  {
   "cell_type": "code",
   "execution_count": null,
   "metadata": {},
   "outputs": [],
   "source": []
  }
 ],
 "metadata": {
  "kernelspec": {
   "display_name": "Python 3",
   "language": "python",
   "name": "python3"
  },
  "language_info": {
   "codemirror_mode": {
    "name": "ipython",
    "version": 3
   },
   "file_extension": ".py",
   "mimetype": "text/x-python",
   "name": "python",
   "nbconvert_exporter": "python",
   "pygments_lexer": "ipython3",
   "version": "3.11.1"
  },
  "orig_nbformat": 4,
  "vscode": {
   "interpreter": {
    "hash": "5c16144c77acfa8bb95211d46b52562664bf59767f626198b4dd4a3fa9879d72"
   }
  }
 },
 "nbformat": 4,
 "nbformat_minor": 2
}
