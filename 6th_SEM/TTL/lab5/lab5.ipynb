{
 "cells": [
  {
   "cell_type": "code",
   "execution_count": 60,
   "metadata": {},
   "outputs": [
    {
     "name": "stdout",
     "output_type": "stream",
     "text": [
      "Adding : 20\n",
      "Multiplication  45\n"
     ]
    }
   ],
   "source": [
    "#q1\n",
    "cb= lambda c:c+15\n",
    "mul= lambda x,y: x*y\n",
    "print(\"Adding :\",cb(5))\n",
    "print(\"Multiplication \", mul(9,5))"
   ]
  },
  {
   "cell_type": "code",
   "execution_count": 61,
   "metadata": {},
   "outputs": [
    {
     "name": "stdout",
     "output_type": "stream",
     "text": [
      "[('Social sciences', 82), ('English', 88), ('Science', 90), ('Maths', 97)]\n"
     ]
    }
   ],
   "source": [
    "#q2\n",
    "my_list =[('English', 88), ('Science', 90), ('Maths', 97), ('Social sciences', 82)]\n",
    "my_list.sort(key=lambda x: x[1])\n",
    "print(my_list)"
   ]
  },
  {
   "cell_type": "code",
   "execution_count": 62,
   "metadata": {},
   "outputs": [
    {
     "name": "stdout",
     "output_type": "stream",
     "text": [
      "Original list of integers:\n",
      "[1, 2, 3, 4, 5, 6, 7, 8, 9, 10]\n",
      "Even numbers from the list:\n",
      "[2, 4, 6, 8, 10]\n",
      "Odd numbers from the list:\n",
      "[1, 3, 5, 7, 9]\n"
     ]
    }
   ],
   "source": [
    "#q3\n",
    "integer_list = [1, 2, 3, 4, 5, 6, 7, 8, 9, 10]\n",
    "even_list = list(filter(lambda x: x % 2 == 0, integer_list))\n",
    "odd_list = list(filter(lambda x: x % 2 != 0, integer_list))\n",
    "\n",
    "print(\"Original list of integers:\")\n",
    "print(integer_list)\n",
    "\n",
    "print(\"Even numbers from the list:\")\n",
    "print(even_list)\n",
    "\n",
    "print(\"Odd numbers from the list:\")\n",
    "print(odd_list)"
   ]
  },
  {
   "cell_type": "code",
   "execution_count": 63,
   "metadata": {},
   "outputs": [
    {
     "name": "stdout",
     "output_type": "stream",
     "text": [
      "Original list of integers:\n",
      "[1, 2, 3, 4, 5, 6, 7, 8, 9, 10]\n",
      "Square every number of the said list:\n",
      "[1, 4, 9, 16, 25, 36, 49, 64, 81, 100]\n",
      "Cube every number of the said list:\n",
      "[1, 8, 27, 64, 125, 216, 343, 512, 729, 1000]\n"
     ]
    }
   ],
   "source": [
    "#q4\n",
    "squared_list = list(map(lambda x: x**2, integer_list))\n",
    "cubed_list = list(map(lambda x: x**3, integer_list))\n",
    "print(\"Original list of integers:\")\n",
    "print(integer_list)\n",
    "print(\"Square every number of the said list:\")\n",
    "print(squared_list)\n",
    "print(\"Cube every number of the said list:\")\n",
    "print(cubed_list)\n"
   ]
  },
  {
   "cell_type": "code",
   "execution_count": 2,
   "metadata": {},
   "outputs": [
    {
     "name": "stdout",
     "output_type": "stream",
     "text": [
      "Python:True\n",
      "Java:False\n",
      "Java:True\n",
      "Oracle:False\n",
      "Oracle:False\n",
      "Oracle:True\n",
      "Prakash:True\n"
     ]
    }
   ],
   "source": [
    "#q5\n",
    "starts_with = lambda x: lambda y: y.startswith(x)\n",
    "\n",
    "test_strings = ['Python', 'Java', 'Oracle', 'Prakash']\n",
    "start_chars = ['P', 'J', 'O', 'S']\n",
    "\n",
    "for i in range(len(test_strings)):\n",
    "    for j in range(len(start_chars)):\n",
    "        if starts_with(start_chars[j])(test_strings[i]):\n",
    "            print(test_strings[i] + \":True\")\n",
    "            break\n",
    "        else:\n",
    "            print(test_strings[i] + \":False\")"
   ]
  },
  {
   "cell_type": "code",
   "execution_count": 9,
   "metadata": {},
   "outputs": [
    {
     "name": "stdout",
     "output_type": "stream",
     "text": [
      "[0, 1, 2, 3, 5, 8]\n"
     ]
    }
   ],
   "source": [
    "#q6\n",
    "fib = lambda n: [0, 1] if n <= 1 else fib(n-1) + [fib(n-1)[-1] + fib(n-2)[-1]]\n",
    "n = int(input(\"enter the range\"))\n",
    "print(fib(n))"
   ]
  },
  {
   "cell_type": "code",
   "execution_count": 66,
   "metadata": {},
   "outputs": [
    {
     "name": "stdout",
     "output_type": "stream",
     "text": [
      "[1, 2, 3, 4, 5]\n"
     ]
    }
   ],
   "source": [
    "#q7\n",
    "list1 = [1,2,3,4,5,6,7,8,9]\n",
    "list2 = [1,2,3,4,5]\n",
    "\n",
    "inter = list(filter(lambda x : x in list1,list2))\n",
    "print(inter)"
   ]
  },
  {
   "cell_type": "code",
   "execution_count": 67,
   "metadata": {},
   "outputs": [
    {
     "name": "stdout",
     "output_type": "stream",
     "text": [
      "5 5\n"
     ]
    }
   ],
   "source": [
    "#q8\n",
    "lis1 = [1,2,3,4,5,6,7,8,9,10]\n",
    "counteven = len(list(filter(lambda a: a%2==0,lis1)))\n",
    "countodd= len(list(filter(lambda a: a%2!=0,lis1)))\n",
    "print(counteven,countodd)"
   ]
  },
  {
   "cell_type": "code",
   "execution_count": 76,
   "metadata": {},
   "outputs": [
    {
     "name": "stdout",
     "output_type": "stream",
     "text": [
      "[2, 5, 7, 8, 9, -10, -3, -1]\n"
     ]
    }
   ],
   "source": [
    "#q9\n",
    "posti = [-1, 2, -3, 5, 7, 8, 9, -10]\n",
    "result = sorted(posti, key = lambda i: 0 if i == 0 else -1 / i)\n",
    "print(result)"
   ]
  },
  {
   "cell_type": "code",
   "execution_count": 68,
   "metadata": {},
   "outputs": [
    {
     "name": "stdout",
     "output_type": "stream",
     "text": [
      "['php', 'aaa']\n"
     ]
    }
   ],
   "source": [
    "#q10\n",
    "lispal = ['php', 'w3r', 'Python', 'abcd', 'Java', 'aaa']\n",
    "ans = list(filter(lambda x : x == x[::-1],lispal))\n",
    "print(ans)"
   ]
  },
  {
   "cell_type": "code",
   "execution_count": 69,
   "metadata": {},
   "outputs": [
    {
     "name": "stdout",
     "output_type": "stream",
     "text": [
      "[13, 15, 17] [0]\n"
     ]
    }
   ],
   "source": [
    "#Q11\n",
    "listlis = [[0], [1, 3], [5, 7], [9, 11], [13, 15, 17]]\n",
    "mini = min(listlis, key = lambda i: len(i))\n",
    "maxi = max(listlis, key = lambda i: len(i)) \n",
    "\n",
    "print(maxi,mini)"
   ]
  },
  {
   "cell_type": "code",
   "execution_count": 70,
   "metadata": {},
   "outputs": [
    {
     "name": "stdout",
     "output_type": "stream",
     "text": [
      "[3, 6, 9, 12, 15, 18, 21, 24, 27]\n"
     ]
    }
   ],
   "source": [
    "#q12\n",
    "anslist = list(map(lambda x:x*3,list1))\n",
    "print(anslist)"
   ]
  },
  {
   "cell_type": "code",
   "execution_count": 71,
   "metadata": {},
   "outputs": [
    {
     "name": "stdout",
     "output_type": "stream",
     "text": [
      "[4, 5, 6, 7, 8, 9, 10, 11, 12]\n"
     ]
    }
   ],
   "source": [
    "#q13\n",
    "anslist = list(map(lambda x:x+3,list1))\n",
    "print(anslist)"
   ]
  },
  {
   "cell_type": "code",
   "execution_count": 72,
   "metadata": {},
   "outputs": [
    {
     "name": "stdout",
     "output_type": "stream",
     "text": [
      "[['i', 'n', 'd', 'i', 'a'], ['k', 'i', 'i', 't'], ['c', 's', 'e', ' ', '0', '7'], ['r', 'a', 'j'], ['g', 'i', 'r', 'i']]\n"
     ]
    }
   ],
   "source": [
    "#Q14\n",
    "strlist = ['india', 'kiit', 'cse 07', 'raj', 'giri']\n",
    "ansstrlis = list(map(list,strlist))\n",
    "print(ansstrlis)"
   ]
  },
  {
   "cell_type": "code",
   "execution_count": 8,
   "metadata": {},
   "outputs": [
    {
     "name": "stdout",
     "output_type": "stream",
     "text": [
      "[1, 3, 16, 125, 1296, 24300000]\n"
     ]
    }
   ],
   "source": [
    "\n",
    "#q15\n",
    "lis = [2,3,4,5,6,30]\n",
    "index = [0,1,2,3,4,5]\n",
    "ans = []\n",
    "ans = list(map(pow,lis,index))\n",
    "print(ans)"
   ]
  },
  {
   "cell_type": "code",
   "execution_count": 74,
   "metadata": {},
   "outputs": [
    {
     "name": "stdout",
     "output_type": "stream",
     "text": [
      "('1', '2', '3', '4', '5', '6') ['1', '2', '3', '4', '5', '6', '7', '8', '9']\n"
     ]
    }
   ],
   "source": [
    "#q17\n",
    "tup1 = (1,2,3,4,5,6)\n",
    "rtuple = tuple(map(str,tup1))\n",
    "rlist = list(map(str,list1))\n",
    "print(rtuple,rlist)"
   ]
  },
  {
   "cell_type": "code",
   "execution_count": null,
   "metadata": {},
   "outputs": [],
   "source": []
  }
 ],
 "metadata": {
  "kernelspec": {
   "display_name": "Python 3",
   "language": "python",
   "name": "python3"
  },
  "language_info": {
   "codemirror_mode": {
    "name": "ipython",
    "version": 3
   },
   "file_extension": ".py",
   "mimetype": "text/x-python",
   "name": "python",
   "nbconvert_exporter": "python",
   "pygments_lexer": "ipython3",
   "version": "3.11.1"
  },
  "orig_nbformat": 4,
  "vscode": {
   "interpreter": {
    "hash": "5c16144c77acfa8bb95211d46b52562664bf59767f626198b4dd4a3fa9879d72"
   }
  }
 },
 "nbformat": 4,
 "nbformat_minor": 2
}
