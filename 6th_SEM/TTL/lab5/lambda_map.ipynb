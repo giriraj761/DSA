{
 "cells": [
  {
   "cell_type": "code",
   "execution_count": 1,
   "metadata": {},
   "outputs": [
    {
     "name": "stdout",
     "output_type": "stream",
     "text": [
      "x^2 = 25\n",
      "x^3 = 125\n",
      "x^x = 3125\n",
      "root(x) = 2.23606797749979\n"
     ]
    }
   ],
   "source": [
    "square = lambda a : a**2\n",
    "cube = lambda a : a**3\n",
    "selfs = lambda a:a**a\n",
    "root = lambda a:a**0.5\n",
    "\n",
    "x = int(input(\"enter a number\"))\n",
    "\n",
    "print(\"x^2 = {}\".format(square(x)))\n",
    "print(\"x^3 = {}\".format(cube(x)))\n",
    "print(\"x^x = {}\".format(selfs(x)))\n",
    "print(\"root(x) = {}\".format(root(x)))"
   ]
  },
  {
   "cell_type": "code",
   "execution_count": 12,
   "metadata": {},
   "outputs": [
    {
     "name": "stdout",
     "output_type": "stream",
     "text": [
      "air\n"
     ]
    }
   ],
   "source": [
    "sortstr = lambda string:''.join(sorted(string))\n",
    "print(sortstr(\"ira\"))"
   ]
  },
  {
   "cell_type": "code",
   "execution_count": 23,
   "metadata": {},
   "outputs": [
    {
     "name": "stdout",
     "output_type": "stream",
     "text": [
      "[23, 13, 15]\n"
     ]
    }
   ],
   "source": [
    "li = [12,23,13,15,16,22,100]\n",
    "odd = list(filter(lambda x:(x%2!=0),li))\n",
    "print(odd) "
   ]
  },
  {
   "cell_type": "code",
   "execution_count": 7,
   "metadata": {},
   "outputs": [
    {
     "name": "stdout",
     "output_type": "stream",
     "text": [
      "[144, 529, 169, 225, 256, 484, 10000]\n"
     ]
    }
   ],
   "source": [
    "li = [12,23,13,15,16,22,100]\n",
    "listsquare = list(map(lambda a : a**2 ,li))\n",
    "print(listsquare)"
   ]
  },
  {
   "cell_type": "code",
   "execution_count": 25,
   "metadata": {},
   "outputs": [
    {
     "name": "stdout",
     "output_type": "stream",
     "text": [
      "452.389\n",
      "380.133\n",
      "314.159\n",
      "254.469\n",
      "201.062\n"
     ]
    }
   ],
   "source": [
    "import math as m\n",
    "radius = (12,11,10,9,8)\n",
    "area = list(map(lambda a : round(m.pi*a**2,3) , radius))\n",
    "for i in area:\n",
    "    print(i)"
   ]
  },
  {
   "cell_type": "code",
   "execution_count": 39,
   "metadata": {},
   "outputs": [
    {
     "name": "stdout",
     "output_type": "stream",
     "text": [
      "1.0\n"
     ]
    }
   ],
   "source": [
    "print(m.sin(m.radians(90)))"
   ]
  },
  {
   "cell_type": "code",
   "execution_count": 68,
   "metadata": {},
   "outputs": [
    {
     "name": "stdout",
     "output_type": "stream",
     "text": [
      "[[3, 4, 9], [1, 3, 4, 8, 9], [1, 1, 6]]\n"
     ]
    }
   ],
   "source": [
    "lis = [[9,4,3],[3,4,9,8,1],[1,6,1]]\n",
    "# res = lambda a : [sorted(i) for i in a]\n",
    "# newlis = lambda a,f:[y for y in f(a)]\n",
    "# ans = newlis(lis,res)\n",
    "# print(ans)\n",
    "for i in lis:\n",
    "    i.sort()\n",
    "print(lis)\n"
   ]
  },
  {
   "cell_type": "code",
   "execution_count": null,
   "metadata": {},
   "outputs": [],
   "source": []
  }
 ],
 "metadata": {
  "kernelspec": {
   "display_name": "Python 3",
   "language": "python",
   "name": "python3"
  },
  "language_info": {
   "codemirror_mode": {
    "name": "ipython",
    "version": 3
   },
   "file_extension": ".py",
   "mimetype": "text/x-python",
   "name": "python",
   "nbconvert_exporter": "python",
   "pygments_lexer": "ipython3",
   "version": "3.11.1"
  },
  "orig_nbformat": 4,
  "vscode": {
   "interpreter": {
    "hash": "5c16144c77acfa8bb95211d46b52562664bf59767f626198b4dd4a3fa9879d72"
   }
  }
 },
 "nbformat": 4,
 "nbformat_minor": 2
}
