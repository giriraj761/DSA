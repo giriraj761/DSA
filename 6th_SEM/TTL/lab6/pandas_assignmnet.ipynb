{
 "cells": [
  {
   "cell_type": "code",
   "execution_count": 2,
   "metadata": {},
   "outputs": [
    {
     "name": "stdout",
     "output_type": "stream",
     "text": [
      "         rank discipline   phd  service     sex    salary\n",
      "0        Prof          B  56.0       49    Male  186960.0\n",
      "1        Prof          A  12.0        6    Male   93000.0\n",
      "2        Prof          A  23.0       20    Male  110515.0\n",
      "3        Prof          A  40.0       31    Male  131205.0\n",
      "4        Prof          B  20.0       18    Male  104800.0\n",
      "..        ...        ...   ...      ...     ...       ...\n",
      "73       Prof          B  18.0       10  Female  105450.0\n",
      "74  AssocProf          B  19.0        6  Female  104542.0\n",
      "75       Prof          B  17.0       17  Female  124312.0\n",
      "76       Prof          A  28.0       14  Female  109954.0\n",
      "77       Prof          A  23.0       15  Female  109646.0\n",
      "\n",
      "[78 rows x 6 columns]\n"
     ]
    }
   ],
   "source": [
    "#q1 \n",
    "import pandas as pd\n",
    "data = pd.read_csv(\"Salaries.csv\")\n",
    "print(data)"
   ]
  },
  {
   "cell_type": "code",
   "execution_count": 3,
   "metadata": {},
   "outputs": [
    {
     "name": "stdout",
     "output_type": "stream",
     "text": [
      "\n",
      "from head\n",
      "\n",
      "        rank discipline   phd  service   sex    salary\n",
      "0       Prof          B  56.0       49  Male  186960.0\n",
      "1       Prof          A  12.0        6  Male   93000.0\n",
      "2       Prof          A  23.0       20  Male  110515.0\n",
      "3       Prof          A  40.0       31  Male  131205.0\n",
      "4       Prof          B  20.0       18  Male  104800.0\n",
      "5       Prof          A  20.0       20  Male  122400.0\n",
      "6  AssocProf          A  20.0       17  Male   81285.0\n",
      "7       Prof          A  18.0       18  Male       NaN\n",
      "8       Prof          A  29.0       19  Male   94350.0\n",
      "9       Prof          A  51.0       51  Male   57800.0\n",
      "\n",
      "from tail\n",
      "\n",
      "         rank discipline   phd  service     sex    salary\n",
      "68   AsstProf          A   4.0        2  Female   77500.0\n",
      "69       Prof          A  28.0        7  Female  116450.0\n",
      "70   AsstProf          A   8.0        3  Female   78500.0\n",
      "71  AssocProf          B  12.0        9  Female   71065.0\n",
      "72       Prof          B  24.0       15  Female  161101.0\n",
      "73       Prof          B  18.0       10  Female  105450.0\n",
      "74  AssocProf          B  19.0        6  Female  104542.0\n",
      "75       Prof          B  17.0       17  Female  124312.0\n",
      "76       Prof          A  28.0       14  Female  109954.0\n",
      "77       Prof          A  23.0       15  Female  109646.0\n"
     ]
    }
   ],
   "source": [
    "#q2\n",
    "print(\"\\nfrom head\\n\")\n",
    "print(data.head(10))\n",
    "print(\"\\nfrom tail\\n\")\n",
    "print(data.tail(10))"
   ]
  },
  {
   "cell_type": "code",
   "execution_count": 4,
   "metadata": {},
   "outputs": [
    {
     "name": "stdout",
     "output_type": "stream",
     "text": [
      "max\n",
      "sex\n",
      "Female    161101.0\n",
      "Male      186960.0\n",
      "Name: salary, dtype: float64\n",
      "min\n",
      "sex\n",
      "Female    62884.0\n",
      "Male      57800.0\n",
      "Name: salary, dtype: float64\n"
     ]
    }
   ],
   "source": [
    "#q3\n",
    "print(\"max\")\n",
    "print(data.groupby('sex').max()['salary'])\n",
    "print(\"min\")\n",
    "print(data.groupby('sex').min()['salary'])"
   ]
  },
  {
   "cell_type": "code",
   "execution_count": 5,
   "metadata": {},
   "outputs": [
    {
     "name": "stdout",
     "output_type": "stream",
     "text": [
      "minimum:    rank discipline   phd  service   sex   salary\n",
      "9  Prof          A  51.0       51  Male  57800.0\n",
      "maximum:    rank discipline   phd  service   sex    salary\n",
      "0  Prof          B  56.0       49  Male  186960.0\n"
     ]
    }
   ],
   "source": [
    "#q4\n",
    "mini = data[data['salary']  == data['salary'].min()]\n",
    "print('minimum:',mini)\n",
    "maxi = data[data['salary']  == data['salary'].max()]\n",
    "print('maximum:',maxi)\n"
   ]
  },
  {
   "cell_type": "code",
   "execution_count": 6,
   "metadata": {},
   "outputs": [
    {
     "name": "stdout",
     "output_type": "stream",
     "text": [
      "salary    108003.355263\n",
      "dtype: float64\n",
      "        rank discipline   phd  service   sex         salary\n",
      "0       Prof          B  56.0       49  Male  186960.000000\n",
      "1       Prof          A  12.0        6  Male   93000.000000\n",
      "2       Prof          A  23.0       20  Male  110515.000000\n",
      "3       Prof          A  40.0       31  Male  131205.000000\n",
      "4       Prof          B  20.0       18  Male  104800.000000\n",
      "5       Prof          A  20.0       20  Male  122400.000000\n",
      "6  AssocProf          A  20.0       17  Male   81285.000000\n",
      "7       Prof          A  18.0       18  Male  108003.355263\n",
      "8       Prof          A  29.0       19  Male   94350.000000\n",
      "9       Prof          A  51.0       51  Male   57800.000000\n"
     ]
    }
   ],
   "source": [
    "#q5\n",
    "avg = data.agg({'salary':'mean'})\n",
    "print(avg)\n",
    "data.fillna(avg,inplace=True)\n",
    "print(data.head(10))"
   ]
  },
  {
   "cell_type": "code",
   "execution_count": 7,
   "metadata": {},
   "outputs": [
    {
     "name": "stdout",
     "output_type": "stream",
     "text": [
      "phd    19.605263\n",
      "dtype: float64\n",
      "         rank discipline        phd  service   sex         salary\n",
      "0        Prof          B  56.000000       49  Male  186960.000000\n",
      "1        Prof          A  12.000000        6  Male   93000.000000\n",
      "2        Prof          A  23.000000       20  Male  110515.000000\n",
      "3        Prof          A  40.000000       31  Male  131205.000000\n",
      "4        Prof          B  20.000000       18  Male  104800.000000\n",
      "5        Prof          A  20.000000       20  Male  122400.000000\n",
      "6   AssocProf          A  20.000000       17  Male   81285.000000\n",
      "7        Prof          A  18.000000       18  Male  108003.355263\n",
      "8        Prof          A  29.000000       19  Male   94350.000000\n",
      "9        Prof          A  51.000000       51  Male   57800.000000\n",
      "10       Prof          B  39.000000       33  Male  128250.000000\n",
      "11       Prof          B  23.000000       23  Male  134778.000000\n",
      "12   AsstProf          B   1.000000        0  Male   88000.000000\n",
      "13       Prof          B  19.605263       33  Male  162200.000000\n",
      "14       Prof          B  25.000000       19  Male  153750.000000\n",
      "15       Prof          B  17.000000        3  Male  150480.000000\n",
      "16   AsstProf          B   8.000000        3  Male   75044.000000\n",
      "17   AsstProf          B   4.000000        0  Male   92000.000000\n",
      "18       Prof          A  19.000000        7  Male  107300.000000\n",
      "19       Prof          A  29.000000       27  Male  150500.000000\n"
     ]
    }
   ],
   "source": [
    "#q6\n",
    "avgphd = data.agg({'phd':'mean'})\n",
    "print(avgphd)\n",
    "data.fillna(avgphd,inplace=True)\n",
    "print(data.head(20))"
   ]
  },
  {
   "cell_type": "code",
   "execution_count": 8,
   "metadata": {},
   "outputs": [
    {
     "name": "stdout",
     "output_type": "stream",
     "text": [
      "no of females are : 39\n",
      "no of males are : 39\n"
     ]
    },
    {
     "data": {
      "text/html": [
       "<div>\n",
       "<style scoped>\n",
       "    .dataframe tbody tr th:only-of-type {\n",
       "        vertical-align: middle;\n",
       "    }\n",
       "\n",
       "    .dataframe tbody tr th {\n",
       "        vertical-align: top;\n",
       "    }\n",
       "\n",
       "    .dataframe thead th {\n",
       "        text-align: right;\n",
       "    }\n",
       "</style>\n",
       "<table border=\"1\" class=\"dataframe\">\n",
       "  <thead>\n",
       "    <tr style=\"text-align: right;\">\n",
       "      <th></th>\n",
       "      <th>rank</th>\n",
       "      <th>discipline</th>\n",
       "      <th>phd</th>\n",
       "      <th>service</th>\n",
       "      <th>salary</th>\n",
       "    </tr>\n",
       "    <tr>\n",
       "      <th>sex</th>\n",
       "      <th></th>\n",
       "      <th></th>\n",
       "      <th></th>\n",
       "      <th></th>\n",
       "      <th></th>\n",
       "    </tr>\n",
       "  </thead>\n",
       "  <tbody>\n",
       "    <tr>\n",
       "      <th>Female</th>\n",
       "      <td>39</td>\n",
       "      <td>39</td>\n",
       "      <td>39</td>\n",
       "      <td>39</td>\n",
       "      <td>39</td>\n",
       "    </tr>\n",
       "    <tr>\n",
       "      <th>Male</th>\n",
       "      <td>39</td>\n",
       "      <td>39</td>\n",
       "      <td>39</td>\n",
       "      <td>39</td>\n",
       "      <td>39</td>\n",
       "    </tr>\n",
       "  </tbody>\n",
       "</table>\n",
       "</div>"
      ],
      "text/plain": [
       "        rank  discipline  phd  service  salary\n",
       "sex                                           \n",
       "Female    39          39   39       39      39\n",
       "Male      39          39   39       39      39"
      ]
     },
     "execution_count": 8,
     "metadata": {},
     "output_type": "execute_result"
    }
   ],
   "source": [
    "#q7\n",
    "import matplotlib.pyplot as plt\n",
    "print('no of females are :',data['sex'].tolist().count('Female'))\n",
    "print('no of males are :',data['sex'].tolist().count('Male'))\n",
    "data.groupby(['sex']).count()"
   ]
  },
  {
   "cell_type": "code",
   "execution_count": 9,
   "metadata": {},
   "outputs": [
    {
     "data": {
      "text/html": [
       "<div>\n",
       "<style scoped>\n",
       "    .dataframe tbody tr th:only-of-type {\n",
       "        vertical-align: middle;\n",
       "    }\n",
       "\n",
       "    .dataframe tbody tr th {\n",
       "        vertical-align: top;\n",
       "    }\n",
       "\n",
       "    .dataframe thead th {\n",
       "        text-align: right;\n",
       "    }\n",
       "</style>\n",
       "<table border=\"1\" class=\"dataframe\">\n",
       "  <thead>\n",
       "    <tr style=\"text-align: right;\">\n",
       "      <th></th>\n",
       "      <th>discipline</th>\n",
       "      <th>phd</th>\n",
       "      <th>service</th>\n",
       "      <th>sex</th>\n",
       "      <th>salary</th>\n",
       "    </tr>\n",
       "    <tr>\n",
       "      <th>rank</th>\n",
       "      <th></th>\n",
       "      <th></th>\n",
       "      <th></th>\n",
       "      <th></th>\n",
       "      <th></th>\n",
       "    </tr>\n",
       "  </thead>\n",
       "  <tbody>\n",
       "    <tr>\n",
       "      <th>AssocProf</th>\n",
       "      <td>13</td>\n",
       "      <td>13</td>\n",
       "      <td>13</td>\n",
       "      <td>13</td>\n",
       "      <td>13</td>\n",
       "    </tr>\n",
       "    <tr>\n",
       "      <th>AsstProf</th>\n",
       "      <td>19</td>\n",
       "      <td>19</td>\n",
       "      <td>19</td>\n",
       "      <td>19</td>\n",
       "      <td>19</td>\n",
       "    </tr>\n",
       "    <tr>\n",
       "      <th>Prof</th>\n",
       "      <td>46</td>\n",
       "      <td>46</td>\n",
       "      <td>46</td>\n",
       "      <td>46</td>\n",
       "      <td>46</td>\n",
       "    </tr>\n",
       "  </tbody>\n",
       "</table>\n",
       "</div>"
      ],
      "text/plain": [
       "           discipline  phd  service  sex  salary\n",
       "rank                                            \n",
       "AssocProf          13   13       13   13      13\n",
       "AsstProf           19   19       19   19      19\n",
       "Prof               46   46       46   46      46"
      ]
     },
     "execution_count": 9,
     "metadata": {},
     "output_type": "execute_result"
    }
   ],
   "source": [
    "#q8\n",
    "data.groupby(['rank']).count()"
   ]
  },
  {
   "cell_type": "code",
   "execution_count": 12,
   "metadata": {},
   "outputs": [
    {
     "name": "stdout",
     "output_type": "stream",
     "text": [
      "minimum:\n",
      "         rank discipline   phd  service     sex    salary\n",
      "12  AsstProf          B   1.0        0    Male   88000.0\n",
      "17  AsstProf          B   4.0        0    Male   92000.0\n",
      "23  AsstProf          A   2.0        0    Male   85000.0\n",
      "43  AsstProf          B   5.0        0  Female   77000.0\n",
      "52      Prof          A  12.0        0  Female  105000.0\n",
      "55  AsstProf          A   2.0        0  Female   72500.0\n",
      "maximum:\n",
      "    rank discipline   phd  service   sex   salary\n",
      "9  Prof          A  51.0       51  Male  57800.0\n"
     ]
    }
   ],
   "source": [
    "#q9\n",
    "# print(data['service'>=data['service'].max()])\n",
    "# print(data['service'<=data['service'].min()])\n",
    "\n",
    "mini = data[data['service']  == data['service'].min()]\n",
    "print('minimum:\\n',mini)\n",
    "maxi = data[data['service']  == data['service'].max()]\n",
    "print('maximum:\\n',maxi)\n"
   ]
  },
  {
   "cell_type": "code",
   "execution_count": 11,
   "metadata": {},
   "outputs": [
    {
     "data": {
      "text/plain": [
       "(array([ 3., 13., 13., 19., 10.,  7.,  8.]),\n",
       " array([ 50000.,  65000.,  80000.,  95000., 110000., 125000., 140000.,\n",
       "        155000.]),\n",
       " <BarContainer object of 7 artists>)"
      ]
     },
     "execution_count": 11,
     "metadata": {},
     "output_type": "execute_result"
    },
    {
     "data": {
      "image/png": "[encoded data removed]",
      "text/plain": [
       "<Figure size 640x480 with 1 Axes>"
      ]
     },
     "metadata": {},
     "output_type": "display_data"
    }
   ],
   "source": [
    "#q10\n",
    "plt.hist(data['salary'],bins=[50000,65000,80000,95000,110000,125000,140000,155000])"
   ]
  },
  {
   "cell_type": "code",
   "execution_count": null,
   "metadata": {},
   "outputs": [],
   "source": []
  }
 ],
 "metadata": {
  "kernelspec": {
   "display_name": "Python 3",
   "language": "python",
   "name": "python3"
  },
  "language_info": {
   "codemirror_mode": {
    "name": "ipython",
    "version": 3
   },
   "file_extension": ".py",
   "mimetype": "text/x-python",
   "name": "python",
   "nbconvert_exporter": "python",
   "pygments_lexer": "ipython3",
   "version": "3.11.1"
  },
  "orig_nbformat": 4,
  "vscode": {
   "interpreter": {
    "hash": "5c16144c77acfa8bb95211d46b52562664bf59767f626198b4dd4a3fa9879d72"
   }
  }
 },
 "nbformat": 4,
 "nbformat_minor": 2
}
