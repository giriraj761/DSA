{
 "cells": [
  {
   "cell_type": "code",
   "execution_count": 1,
   "metadata": {},
   "outputs": [
    {
     "name": "stdout",
     "output_type": "stream",
     "text": [
      "giri   20051973   [15, 16, 17]\n"
     ]
    }
   ],
   "source": [
    "#1\n",
    "class student:\n",
    "    def __init__(self, name, rollno, marks) -> None:\n",
    "        self.name = name\n",
    "        self.rollno = rollno \n",
    "        self.marks = marks\n",
    "\n",
    "stu = student('giri',20051973,[15,16,17])\n",
    "print(stu.name,' ',stu.rollno,' ',stu.marks)"
   ]
  },
  {
   "cell_type": "code",
   "execution_count": 2,
   "metadata": {},
   "outputs": [
    {
     "name": "stdout",
     "output_type": "stream",
     "text": [
      "giri   20000   cse\n",
      "giri   12000   cse\n",
      "raj   5000   it\n",
      "the number of employees are :  3\n"
     ]
    }
   ],
   "source": [
    "#2\n",
    "class emp:\n",
    "    empno = 0\n",
    "    def __init__(self, name, salary, dept) -> None:\n",
    "        self.name = name\n",
    "        self.salary = salary\n",
    "        self.dept = dept\n",
    "        emp.empno = emp.empno + 1    \n",
    "    def display(self):\n",
    "        print(self.name,' ',self.salary,' ',self.dept)\n",
    "    \n",
    "e1 = emp('giri', 20000, 'cse')\n",
    "e2 = emp('giri',12000,'cse')\n",
    "e3 = emp('raj',5000,'it')\n",
    "e1.display()\n",
    "e2.display()\n",
    "e3.display()\n",
    "print('the number of employees are : ',emp.empno)\n"
   ]
  },
  {
   "cell_type": "code",
   "execution_count": 3,
   "metadata": {},
   "outputs": [
    {
     "name": "stdout",
     "output_type": "stream",
     "text": [
      "is eligible\n"
     ]
    }
   ],
   "source": [
    "#3\n",
    "from datetime import date\n",
    "class person:\n",
    "    \n",
    "    def __init__(self,name,age) -> None:\n",
    "        self.name = name\n",
    "        self.age = age\n",
    "        \n",
    "    def get_age(self):\n",
    "        today = date.today()\n",
    "        years = today.year - self.age.year\n",
    "        \n",
    "        return years\n",
    "    \n",
    "    def iseligible(self):\n",
    "        if self.get_age()>18:\n",
    "            print('is eligible')\n",
    "        else:\n",
    "            print('is not eligible')\n",
    "    \n",
    "p = person('giri',date(2001,6,24))\n",
    "p.iseligible()"
   ]
  },
  {
   "cell_type": "code",
   "execution_count": 4,
   "metadata": {},
   "outputs": [
    {
     "name": "stdout",
     "output_type": "stream",
     "text": [
      "62.83185307179586\n",
      "314.1592653589793\n"
     ]
    }
   ],
   "source": [
    "#4\n",
    "import math as m\n",
    "class circle:\n",
    "    pii = m.pi\n",
    "    def __init__(self,radius) -> None:\n",
    "        self.radius = radius\n",
    "    def circumfrence(self):\n",
    "        return circle.pii*(self.radius)*2\n",
    "    def area(self):\n",
    "        return self.circumfrence()*(self.radius/2)\n",
    "    \n",
    "    \n",
    "c = circle(10)\n",
    "print(c.circumfrence())\n",
    "print(c.area())"
   ]
  },
  {
   "cell_type": "code",
   "execution_count": 5,
   "metadata": {},
   "outputs": [
    {
     "name": "stdout",
     "output_type": "stream",
     "text": [
      "giri   20051973   48\n",
      "raj   200519733   57\n"
     ]
    }
   ],
   "source": [
    "#q5\n",
    "class student:\n",
    "    def __init__(self, name, rollno, marks) -> None:\n",
    "        self.name = name\n",
    "        self.rollno = rollno \n",
    "        self.marks = marks\n",
    "    \n",
    "    def get_marks(self):\n",
    "          return sum(self.marks)\n",
    "    \n",
    "    def display(self):\n",
    "        print(self.name,' ',self.rollno,' ',self.get_marks())\n",
    "        \n",
    "        \n",
    "stu1 = student('giri',20051973,[15,16,17])\n",
    "stu2 = student('raj',200519733,[19,19,19])\n",
    "stu1.display()\n",
    "stu2.display()\n"
   ]
  },
  {
   "cell_type": "code",
   "execution_count": 16,
   "metadata": {},
   "outputs": [
    {
     "name": "stdout",
     "output_type": "stream",
     "text": [
      "300 sq units\n"
     ]
    }
   ],
   "source": [
    "class rectangle:\n",
    "    \n",
    "    def __init__(self,l,b) -> None:\n",
    "         self.length = l\n",
    "         self.breath = b\n",
    "         \n",
    "    def area(self):\n",
    "        return self.length*self.breath\n",
    "    \n",
    "rec = rectangle(15,20)\n",
    "print(rec.area(),'sq units')"
   ]
  },
  {
   "cell_type": "code",
   "execution_count": 17,
   "metadata": {},
   "outputs": [
    {
     "name": "stdout",
     "output_type": "stream",
     "text": [
      "15/4\n"
     ]
    }
   ],
   "source": [
    "# 7\n",
    "def gcd(a, b):\n",
    "    if a == 0:\n",
    "        return b\n",
    "    else:\n",
    "        return gcd(b % a, a)\n",
    "    \n",
    "class fraction:\n",
    "    def __init__(self, numer, deno) -> None:\n",
    "        self.numer = numer\n",
    "        self.deno = deno\n",
    "        \n",
    "    def simplify(self):\n",
    "        divisor = gcd(self.numer,self.deno)\n",
    "        a,b= str((self.numer//divisor)),str((self.deno//divisor))\n",
    "        # return str(a)+'/'+str(b)\n",
    "        return a+'/'+b\n",
    "        \n",
    "\n",
    "\n",
    "fra = fraction(30,8);\n",
    "print(fra.simplify())\n"
   ]
  },
  {
   "cell_type": "code",
   "execution_count": null,
   "metadata": {},
   "outputs": [],
   "source": []
  }
 ],
 "metadata": {
  "kernelspec": {
   "display_name": "Python 3",
   "language": "python",
   "name": "python3"
  },
  "language_info": {
   "codemirror_mode": {
    "name": "ipython",
    "version": 3
   },
   "file_extension": ".py",
   "mimetype": "text/x-python",
   "name": "python",
   "nbconvert_exporter": "python",
   "pygments_lexer": "ipython3",
   "version": "3.11.1"
  },
  "orig_nbformat": 4
 },
 "nbformat": 4,
 "nbformat_minor": 2
}
