{
 "cells": [
  {
   "cell_type": "code",
   "execution_count": 9,
   "metadata": {},
   "outputs": [
    {
     "name": "stdout",
     "output_type": "stream",
     "text": [
      "giri\n"
     ]
    }
   ],
   "source": [
    "class emp:\n",
    "    def __init__(self, name, salary, dept) -> None:\n",
    "        self.name = name\n",
    "        self.salary = salary\n",
    "        self.dept = dept\n",
    "    \n",
    "\n",
    "e = emp('giri', 20000, 'cse')\n",
    "print(e.name)\n"
   ]
  },
  {
   "cell_type": "code",
   "execution_count": 25,
   "metadata": {},
   "outputs": [
    {
     "name": "stdout",
     "output_type": "stream",
     "text": [
      "1 10 6\n",
      "1 20\n",
      "1\n"
     ]
    }
   ],
   "source": [
    "class emp:\n",
    "    x = 1\n",
    "    def __init__(self, var) -> None:\n",
    "        self.var = var\n",
    "        var = var + 5\n",
    "        self.x = self.x + 5\n",
    "        # print(self.x)\n",
    "        # print(var)\n",
    "        \n",
    "e = emp(10)\n",
    "print(emp.x,e.var,e.x)\n",
    "f = emp(20)\n",
    "print(emp.x,f.var)\n",
    "g = emp(30)\n",
    "print(emp.x)"
   ]
  },
  {
   "cell_type": "code",
   "execution_count": null,
   "metadata": {},
   "outputs": [],
   "source": []
  }
 ],
 "metadata": {
  "kernelspec": {
   "display_name": "Python 3",
   "language": "python",
   "name": "python3"
  },
  "language_info": {
   "codemirror_mode": {
    "name": "ipython",
    "version": 3
   },
   "file_extension": ".py",
   "mimetype": "text/x-python",
   "name": "python",
   "nbconvert_exporter": "python",
   "pygments_lexer": "ipython3",
   "version": "3.11.1"
  },
  "orig_nbformat": 4
 },
 "nbformat": 4,
 "nbformat_minor": 2
}
