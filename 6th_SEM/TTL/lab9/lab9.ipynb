{
 "cells": [
  {
   "cell_type": "code",
   "execution_count": 2,
   "metadata": {
    "_cell_guid": "79c7e3d0-c299-4dcb-8224-4455121ee9b0",
    "_uuid": "d629ff2d2480ee46fbb7e2d37f6b5fab8052498a",
    "execution": {
     "iopub.execute_input": "2020-09-06T17:12:40.688089Z",
     "iopub.status.busy": "2020-09-06T17:12:40.687337Z",
     "iopub.status.idle": "2020-09-06T17:12:40.691368Z",
     "shell.execute_reply": "2020-09-06T17:12:40.691961Z"
    },
    "papermill": {
     "duration": 0.033336,
     "end_time": "2020-09-06T17:12:40.692121",
     "exception": false,
     "start_time": "2020-09-06T17:12:40.658785",
     "status": "completed"
    },
    "tags": []
   },
   "outputs": [
    {
     "name": "stdout",
     "output_type": "stream",
     "text": [
      "1.24.2\n"
     ]
    }
   ],
   "source": [
    "import numpy as np\n",
    "print(np.__version__)"
   ]
  },
  {
   "cell_type": "code",
   "execution_count": 3,
   "metadata": {
    "execution": {
     "iopub.execute_input": "2020-09-06T17:12:40.797248Z",
     "iopub.status.busy": "2020-09-06T17:12:40.796310Z",
     "iopub.status.idle": "2020-09-06T17:12:40.800742Z",
     "shell.execute_reply": "2020-09-06T17:12:40.801349Z"
    },
    "papermill": {
     "duration": 0.037894,
     "end_time": "2020-09-06T17:12:40.801507",
     "exception": false,
     "start_time": "2020-09-06T17:12:40.763613",
     "status": "completed"
    },
    "tags": []
   },
   "outputs": [
    {
     "data": {
      "text/plain": [
       "array([0, 1, 2, 3, 4, 5, 6, 7, 8, 9])"
      ]
     },
     "execution_count": 3,
     "metadata": {},
     "output_type": "execute_result"
    }
   ],
   "source": [
    "# Question : Create a 1D array of numbers from 0 to 9\n",
    "# Output : #> array([0, 1, 2, 3, 4, 5, 6, 7, 8, 9])\n",
    "\n",
    "# Solution\n",
    "X = np.arange(10)\n",
    "X"
   ]
  },
  {
   "cell_type": "code",
   "execution_count": 4,
   "metadata": {
    "execution": {
     "iopub.execute_input": "2020-09-06T17:12:40.906065Z",
     "iopub.status.busy": "2020-09-06T17:12:40.905253Z",
     "iopub.status.idle": "2020-09-06T17:12:40.917600Z",
     "shell.execute_reply": "2020-09-06T17:12:40.918161Z"
    },
    "papermill": {
     "duration": 0.045602,
     "end_time": "2020-09-06T17:12:40.918390",
     "exception": false,
     "start_time": "2020-09-06T17:12:40.872788",
     "status": "completed"
    },
    "tags": []
   },
   "outputs": [
    {
     "data": {
      "text/plain": [
       "array([[ True,  True,  True],\n",
       "       [ True,  True,  True],\n",
       "       [ True,  True,  True]])"
      ]
     },
     "execution_count": 4,
     "metadata": {},
     "output_type": "execute_result"
    }
   ],
   "source": [
    "# Question : Create a 3×3 numpy array of all True’s\n",
    "\n",
    "# Solution\n",
    "np.full((3,3), True, dtype=bool)\n",
    "\n",
    "#or\n",
    "np.full((9), True, dtype=bool).reshape(3,3)\n",
    "\n",
    "#or\n",
    "np.ones((3,3), dtype=bool)\n",
    "\n",
    "#or\n",
    "np.ones((9), dtype=bool).reshape(3,3)"
   ]
  },
  {
   "cell_type": "code",
   "execution_count": 5,
   "metadata": {
    "execution": {
     "iopub.execute_input": "2020-09-06T17:12:41.022525Z",
     "iopub.status.busy": "2020-09-06T17:12:41.021570Z",
     "iopub.status.idle": "2020-09-06T17:12:41.026062Z",
     "shell.execute_reply": "2020-09-06T17:12:41.025252Z"
    },
    "papermill": {
     "duration": 0.035606,
     "end_time": "2020-09-06T17:12:41.026208",
     "exception": false,
     "start_time": "2020-09-06T17:12:40.990602",
     "status": "completed"
    },
    "tags": []
   },
   "outputs": [
    {
     "data": {
      "text/plain": [
       "array([1, 3, 5, 7, 9])"
      ]
     },
     "execution_count": 5,
     "metadata": {},
     "output_type": "execute_result"
    }
   ],
   "source": [
    "# Question : Extract all odd numbers from array\n",
    "# input: arr = np.array([0, 1, 2, 3, 4, 5, 6, 7, 8, 9])\n",
    "# output: array([1, 3, 5, 7, 9])\n",
    "\n",
    "#Solution\n",
    "\n",
    "arr = np.arange(10)\n",
    "\n",
    "arr[arr%2 == 1]"
   ]
  },
  {
   "cell_type": "code",
   "execution_count": 6,
   "metadata": {
    "execution": {
     "iopub.execute_input": "2020-09-06T17:12:41.134422Z",
     "iopub.status.busy": "2020-09-06T17:12:41.132941Z",
     "iopub.status.idle": "2020-09-06T17:12:41.140642Z",
     "shell.execute_reply": "2020-09-06T17:12:41.139582Z"
    },
    "papermill": {
     "duration": 0.040263,
     "end_time": "2020-09-06T17:12:41.140823",
     "exception": false,
     "start_time": "2020-09-06T17:12:41.100560",
     "status": "completed"
    },
    "tags": []
   },
   "outputs": [
    {
     "data": {
      "text/plain": [
       "array([ 0, -1,  2, -1,  4, -1,  6, -1,  8, -1])"
      ]
     },
     "execution_count": 6,
     "metadata": {},
     "output_type": "execute_result"
    }
   ],
   "source": [
    "# Question: Replace all odd numbers in arr with -1\n",
    "# input: arr = np.array([0, 1, 2, 3, 4, 5, 6, 7, 8, 9])\n",
    "# output: array([ 0, -1,  2, -1,  4, -1,  6, -1,  8, -1])\n",
    "\n",
    "# Solution\n",
    "\n",
    "arr = np.arange(10)\n",
    "\n",
    "arr[arr%2 == 1] = -1\n",
    "arr"
   ]
  },
  {
   "cell_type": "code",
   "execution_count": 7,
   "metadata": {
    "execution": {
     "iopub.execute_input": "2020-09-06T17:12:41.275921Z",
     "iopub.status.busy": "2020-09-06T17:12:41.275030Z",
     "iopub.status.idle": "2020-09-06T17:12:41.285479Z",
     "shell.execute_reply": "2020-09-06T17:12:41.288338Z"
    },
    "papermill": {
     "duration": 0.056423,
     "end_time": "2020-09-06T17:12:41.288564",
     "exception": false,
     "start_time": "2020-09-06T17:12:41.232141",
     "status": "completed"
    },
    "tags": []
   },
   "outputs": [
    {
     "name": "stdout",
     "output_type": "stream",
     "text": [
      "Modified Array\n",
      "\n",
      "Original Array\n"
     ]
    },
    {
     "data": {
      "text/plain": [
       "array([0, 1, 2, 3, 4, 5, 6, 7, 8, 9])"
      ]
     },
     "execution_count": 7,
     "metadata": {},
     "output_type": "execute_result"
    }
   ],
   "source": [
    "# Question: Replace all odd numbers in arr with -1 without changing arr\n",
    "# input: arr = np.array([0, 1, 2, 3, 4, 5, 6, 7, 8, 9])\n",
    "# output: out\n",
    "# array([ 0, -1,  2, -1,  4, -1,  6, -1,  8, -1])\n",
    "# arr\n",
    "# array([0, 1, 2, 3, 4, 5, 6, 7, 8, 9])\n",
    "\n",
    "# Solution\n",
    "\n",
    "arr = np.arange(10)\n",
    "\n",
    "out = arr.copy()\n",
    "\n",
    "out[out%2 == 1] = -1\n",
    "\n",
    "print('Modified Array')\n",
    "out\n",
    "\n",
    "print('\\nOriginal Array')\n",
    "arr"
   ]
  },
  {
   "cell_type": "code",
   "execution_count": 8,
   "metadata": {
    "execution": {
     "iopub.execute_input": "2020-09-06T17:12:41.399908Z",
     "iopub.status.busy": "2020-09-06T17:12:41.399070Z",
     "iopub.status.idle": "2020-09-06T17:12:41.406971Z",
     "shell.execute_reply": "2020-09-06T17:12:41.406176Z"
    },
    "papermill": {
     "duration": 0.040323,
     "end_time": "2020-09-06T17:12:41.407110",
     "exception": false,
     "start_time": "2020-09-06T17:12:41.366787",
     "status": "completed"
    },
    "tags": []
   },
   "outputs": [
    {
     "data": {
      "text/plain": [
       "array([[0, 1, 2, 3, 4],\n",
       "       [5, 6, 7, 8, 9]])"
      ]
     },
     "execution_count": 8,
     "metadata": {},
     "output_type": "execute_result"
    }
   ],
   "source": [
    "# Question: Convert a 1D array to a 2D array with 2 rows\n",
    "# input: np.arange(10)\n",
    "# output array([[0, 1, 2, 3, 4],\n",
    "#               [5, 6, 7, 8, 9]])\n",
    "\n",
    "# Solution\n",
    "\n",
    "arr = np.arange(10)\n",
    "arr.reshape(2,5)\n",
    "\n",
    "# Another solution\n",
    "arr = np.arange(10)\n",
    "arr.reshape(2, -1)  # Setting to -1 automatically decides the number of cols"
   ]
  },
  {
   "cell_type": "code",
   "execution_count": 9,
   "metadata": {
    "execution": {
     "iopub.execute_input": "2020-09-06T17:12:41.517686Z",
     "iopub.status.busy": "2020-09-06T17:12:41.516664Z",
     "iopub.status.idle": "2020-09-06T17:12:41.521642Z",
     "shell.execute_reply": "2020-09-06T17:12:41.520926Z"
    },
    "papermill": {
     "duration": 0.038342,
     "end_time": "2020-09-06T17:12:41.521766",
     "exception": false,
     "start_time": "2020-09-06T17:12:41.483424",
     "status": "completed"
    },
    "tags": []
   },
   "outputs": [
    {
     "data": {
      "text/plain": [
       "array([[0, 1, 2, 3, 4],\n",
       "       [5, 6, 7, 8, 9],\n",
       "       [1, 1, 1, 1, 1],\n",
       "       [1, 1, 1, 1, 1]])"
      ]
     },
     "execution_count": 9,
     "metadata": {},
     "output_type": "execute_result"
    }
   ],
   "source": [
    "# Question: Stack arrays a and b vertically\n",
    "# input: a = np.arange(10).reshape(2,-1)\n",
    "#        b = np.repeat(1, 10).reshape(2,-1)\n",
    "\n",
    "# output: array([[0, 1, 2, 3, 4],\n",
    "#                [5, 6, 7, 8, 9],\n",
    "#                [1, 1, 1, 1, 1],\n",
    "#                [1, 1, 1, 1, 1]])\n",
    "\n",
    "# Solution\n",
    "\n",
    "a = np.arange(10).reshape(2,-1)\n",
    "b = np.repeat(1, 10).reshape(2,-1)\n",
    "\n",
    "np.vstack([a,b])"
   ]
  },
  {
   "cell_type": "code",
   "execution_count": 10,
   "metadata": {
    "execution": {
     "iopub.execute_input": "2020-09-06T17:12:41.637649Z",
     "iopub.status.busy": "2020-09-06T17:12:41.636615Z",
     "iopub.status.idle": "2020-09-06T17:12:41.641282Z",
     "shell.execute_reply": "2020-09-06T17:12:41.640664Z"
    },
    "papermill": {
     "duration": 0.038746,
     "end_time": "2020-09-06T17:12:41.641430",
     "exception": false,
     "start_time": "2020-09-06T17:12:41.602684",
     "status": "completed"
    },
    "tags": []
   },
   "outputs": [
    {
     "data": {
      "text/plain": [
       "array([[0, 1, 2, 3, 4, 1, 1, 1, 1, 1],\n",
       "       [5, 6, 7, 8, 9, 1, 1, 1, 1, 1]])"
      ]
     },
     "execution_count": 10,
     "metadata": {},
     "output_type": "execute_result"
    }
   ],
   "source": [
    "# Question: Stack the arrays a and b horizontally.\n",
    "\n",
    "# Input: a = np.arange(10).reshape(2,-1)\n",
    "#        b = np.repeat(1, 10).reshape(2,-1)\n",
    "# Output: array([[0, 1, 2, 3, 4, 1, 1, 1, 1, 1],\n",
    "#                [5, 6, 7, 8, 9, 1, 1, 1, 1, 1]])\n",
    "\n",
    "\n",
    "# Solution:\n",
    "a = np.arange(10).reshape(2,-1)\n",
    "b = np.repeat(1, 10).reshape(2,-1)\n",
    "\n",
    "np.hstack([a,b])"
   ]
  },
  {
   "cell_type": "code",
   "execution_count": 11,
   "metadata": {
    "execution": {
     "iopub.execute_input": "2020-09-06T17:12:41.752934Z",
     "iopub.status.busy": "2020-09-06T17:12:41.752115Z",
     "iopub.status.idle": "2020-09-06T17:12:41.759837Z",
     "shell.execute_reply": "2020-09-06T17:12:41.759194Z"
    },
    "papermill": {
     "duration": 0.04229,
     "end_time": "2020-09-06T17:12:41.759968",
     "exception": false,
     "start_time": "2020-09-06T17:12:41.717678",
     "status": "completed"
    },
    "tags": []
   },
   "outputs": [
    {
     "data": {
      "text/plain": [
       "array([1, 1, 1, 2, 2, 2, 3, 3, 3, 1, 2, 3, 1, 2, 3, 1, 2, 3])"
      ]
     },
     "execution_count": 11,
     "metadata": {},
     "output_type": "execute_result"
    }
   ],
   "source": [
    "# Question: Create the following pattern without hardcoding. Use only numpy functions and the below input array a.\n",
    "\n",
    "# Input: a = np.array([1,2,3])\n",
    "# Output: array([1, 1, 1, 2, 2, 2, 3, 3, 3, 1, 2, 3, 1, 2, 3, 1, 2, 3])\n",
    "\n",
    "\n",
    "# Solution\n",
    "\n",
    "a = np.array([1,2,3])\n",
    "np.r_[np.repeat(a, 3), np.tile(a, 3)]\n",
    "\n",
    "#other solution\n",
    "np.hstack((np.repeat(a, 3), np.tile(a, 3)))"
   ]
  },
  {
   "cell_type": "code",
   "execution_count": 12,
   "metadata": {
    "execution": {
     "iopub.execute_input": "2020-09-06T17:12:41.872091Z",
     "iopub.status.busy": "2020-09-06T17:12:41.871059Z",
     "iopub.status.idle": "2020-09-06T17:12:41.876216Z",
     "shell.execute_reply": "2020-09-06T17:12:41.875477Z"
    },
    "papermill": {
     "duration": 0.03976,
     "end_time": "2020-09-06T17:12:41.876365",
     "exception": false,
     "start_time": "2020-09-06T17:12:41.836605",
     "status": "completed"
    },
    "tags": []
   },
   "outputs": [
    {
     "data": {
      "text/plain": [
       "array([2, 4])"
      ]
     },
     "execution_count": 12,
     "metadata": {},
     "output_type": "execute_result"
    }
   ],
   "source": [
    "# Question: Get the common items between a and b\n",
    "\n",
    "# Input: a = np.array([1,2,3,2,3,4,3,4,5,6])\n",
    "#        b = np.array([7,2,10,2,7,4,9,4,9,8])\n",
    "\n",
    "# Output: array([2, 4])\n",
    "\n",
    "\n",
    "# Solution:\n",
    "a = np.array([1,2,3,2,3,4,3,4,5,6])\n",
    "b = np.array([7,2,10,2,7,4,9,4,9,8])\n",
    "np.intersect1d(a,b)"
   ]
  },
  {
   "cell_type": "code",
   "execution_count": 13,
   "metadata": {
    "execution": {
     "iopub.execute_input": "2020-09-06T17:12:41.988880Z",
     "iopub.status.busy": "2020-09-06T17:12:41.987773Z",
     "iopub.status.idle": "2020-09-06T17:12:41.992448Z",
     "shell.execute_reply": "2020-09-06T17:12:41.991687Z"
    },
    "papermill": {
     "duration": 0.038973,
     "end_time": "2020-09-06T17:12:41.992580",
     "exception": false,
     "start_time": "2020-09-06T17:12:41.953607",
     "status": "completed"
    },
    "tags": []
   },
   "outputs": [
    {
     "data": {
      "text/plain": [
       "array([1, 2, 3, 4])"
      ]
     },
     "execution_count": 13,
     "metadata": {},
     "output_type": "execute_result"
    }
   ],
   "source": [
    "# Question: From array a remove all items present in array b\n",
    "\n",
    "# Input: a = np.array([1,2,3,4,5])\n",
    "#        b = np.array([5,6,7,8,9])\n",
    "\n",
    "# Output: array([1,2,3,4])\n",
    "\n",
    "\n",
    "# Solution\n",
    "a = np.array([1,2,3,4,5])\n",
    "b = np.array([5,6,7,8,9])\n",
    "\n",
    "np.setdiff1d(a,b)"
   ]
  },
  {
   "cell_type": "code",
   "execution_count": 14,
   "metadata": {
    "execution": {
     "iopub.execute_input": "2020-09-06T17:12:42.106342Z",
     "iopub.status.busy": "2020-09-06T17:12:42.105119Z",
     "iopub.status.idle": "2020-09-06T17:12:42.110226Z",
     "shell.execute_reply": "2020-09-06T17:12:42.109581Z"
    },
    "papermill": {
     "duration": 0.039847,
     "end_time": "2020-09-06T17:12:42.110372",
     "exception": false,
     "start_time": "2020-09-06T17:12:42.070525",
     "status": "completed"
    },
    "tags": []
   },
   "outputs": [
    {
     "data": {
      "text/plain": [
       "(array([1, 3, 5, 7], dtype=int64),)"
      ]
     },
     "execution_count": 14,
     "metadata": {},
     "output_type": "execute_result"
    }
   ],
   "source": [
    "# Question: Get the positions where elements of a and b match\n",
    "\n",
    "# Input: a = np.array([1,2,3,2,3,4,3,4,5,6])\n",
    "#        b = np.array([7,2,10,2,7,4,9,4,9,8])\n",
    "\n",
    "# Output: (array([1, 3, 5, 7]),)\n",
    "\n",
    "\n",
    "# Solution\n",
    "\n",
    "a = np.array([1,2,3,2,3,4,3,4,5,6])\n",
    "b = np.array([7,2,10,2,7,4,9,4,9,8])\n",
    "\n",
    "np.where(a == b)"
   ]
  },
  {
   "cell_type": "code",
   "execution_count": 15,
   "metadata": {
    "execution": {
     "iopub.execute_input": "2020-09-06T17:12:42.275713Z",
     "iopub.status.busy": "2020-09-06T17:12:42.274594Z",
     "iopub.status.idle": "2020-09-06T17:12:42.278591Z",
     "shell.execute_reply": "2020-09-06T17:12:42.279181Z"
    },
    "papermill": {
     "duration": 0.038949,
     "end_time": "2020-09-06T17:12:42.279369",
     "exception": false,
     "start_time": "2020-09-06T17:12:42.240420",
     "status": "completed"
    },
    "tags": []
   },
   "outputs": [
    {
     "data": {
      "text/plain": [
       "array([ 6,  9, 10])"
      ]
     },
     "execution_count": 15,
     "metadata": {},
     "output_type": "execute_result"
    }
   ],
   "source": [
    "# Question: Get all items between 5 and 10 from a.\n",
    "\n",
    "# Input: a = np.array([2, 6, 1, 9, 10, 3, 27])\n",
    "# Output: (array([6, 9, 10]),)\n",
    "\n",
    "\n",
    "# Solution\n",
    "\n",
    "a = np.array([2, 6, 1, 9, 10, 3, 27])\n",
    "a[(a >= 5) & (a <= 10)]"
   ]
  },
  {
   "cell_type": "code",
   "execution_count": 16,
   "metadata": {
    "execution": {
     "iopub.execute_input": "2020-09-06T17:12:42.398789Z",
     "iopub.status.busy": "2020-09-06T17:12:42.393890Z",
     "iopub.status.idle": "2020-09-06T17:12:42.403608Z",
     "shell.execute_reply": "2020-09-06T17:12:42.402813Z"
    },
    "papermill": {
     "duration": 0.045205,
     "end_time": "2020-09-06T17:12:42.403777",
     "exception": false,
     "start_time": "2020-09-06T17:12:42.358572",
     "status": "completed"
    },
    "tags": []
   },
   "outputs": [
    {
     "data": {
      "text/plain": [
       "array([6, 7, 9, 8, 9, 7, 5])"
      ]
     },
     "execution_count": 16,
     "metadata": {},
     "output_type": "execute_result"
    }
   ],
   "source": [
    "# Question: Convert the function maxx that works on two scalars, to work on two arrays.\n",
    "# Input:\n",
    "\n",
    "def maxx(x, y):\n",
    "    if x >= y:\n",
    "        return x\n",
    "    else:\n",
    "        return y\n",
    "\n",
    "# maxx(1, 5)\n",
    "#> 5\n",
    "\n",
    "# Output:\n",
    "# a = np.array([5, 7, 9, 8, 6, 4, 5])\n",
    "# b = np.array([6, 3, 4, 8, 9, 7, 1])\n",
    "# pair_max(a, b)\n",
    "# array([ 6.,  7.,  9.,  8.,  9.,  7.,  5.])\n",
    "\n",
    "# Solution\n",
    "\n",
    "def pair_max(x, y):\n",
    "    # here I am using map to make tuple from a and b, other solution is using zip(a,b)\n",
    "    maximum = [maxx(a,b) for a,b in map(lambda a,b:(a,b),x,y)]\n",
    "    # using zip\n",
    "    # maximum = [maxx(a,b) for a,b in zip(x,y)]\n",
    "    return np.array(maximum)\n",
    "\n",
    "a = np.array([5, 7, 9, 8, 6, 4, 5])\n",
    "b = np.array([6, 3, 4, 8, 9, 7, 1])\n",
    "\n",
    "pair_max(a,b)"
   ]
  },
  {
   "cell_type": "code",
   "execution_count": 17,
   "metadata": {
    "execution": {
     "iopub.execute_input": "2020-09-06T17:12:42.519456Z",
     "iopub.status.busy": "2020-09-06T17:12:42.518681Z",
     "iopub.status.idle": "2020-09-06T17:12:42.528254Z",
     "shell.execute_reply": "2020-09-06T17:12:42.527517Z"
    },
    "papermill": {
     "duration": 0.043691,
     "end_time": "2020-09-06T17:12:42.528482",
     "exception": false,
     "start_time": "2020-09-06T17:12:42.484791",
     "status": "completed"
    },
    "tags": []
   },
   "outputs": [
    {
     "name": "stdout",
     "output_type": "stream",
     "text": [
      "Original array\n",
      "\n",
      "Modified array\n"
     ]
    },
    {
     "data": {
      "text/plain": [
       "array([[1, 0, 2],\n",
       "       [4, 3, 5],\n",
       "       [7, 6, 8]])"
      ]
     },
     "execution_count": 17,
     "metadata": {},
     "output_type": "execute_result"
    }
   ],
   "source": [
    "# Question: Swap columns 1 and 2 in the array arr.\n",
    "\n",
    "# Input:\n",
    "\n",
    "arr = np.arange(9).reshape(3,3)\n",
    "\n",
    "print('Original array')\n",
    "arr\n",
    "\n",
    "# Solution\n",
    "\n",
    "print(\"\\nModified array\")\n",
    "arr[:, [1,0,2]]"
   ]
  },
  {
   "cell_type": "code",
   "execution_count": 18,
   "metadata": {
    "execution": {
     "iopub.execute_input": "2020-09-06T17:12:42.646284Z",
     "iopub.status.busy": "2020-09-06T17:12:42.645449Z",
     "iopub.status.idle": "2020-09-06T17:12:42.653431Z",
     "shell.execute_reply": "2020-09-06T17:12:42.654131Z"
    },
    "papermill": {
     "duration": 0.043812,
     "end_time": "2020-09-06T17:12:42.654308",
     "exception": false,
     "start_time": "2020-09-06T17:12:42.610496",
     "status": "completed"
    },
    "tags": []
   },
   "outputs": [
    {
     "name": "stdout",
     "output_type": "stream",
     "text": [
      "Original array\n",
      "\n",
      "Modified array\n"
     ]
    },
    {
     "data": {
      "text/plain": [
       "array([[3, 4, 5],\n",
       "       [0, 1, 2],\n",
       "       [6, 7, 8]])"
      ]
     },
     "execution_count": 18,
     "metadata": {},
     "output_type": "execute_result"
    }
   ],
   "source": [
    "# Question: Swap rows 1 and 2 in the array arr:\n",
    "\n",
    "# Input: \n",
    "\n",
    "arr = np.arange(9).reshape(3,3)\n",
    "print('Original array')\n",
    "arr\n",
    "\n",
    "# Solution\n",
    "\n",
    "print(\"\\nModified array\")\n",
    "arr[[1,0,2], :]"
   ]
  },
  {
   "cell_type": "code",
   "execution_count": 19,
   "metadata": {
    "execution": {
     "iopub.execute_input": "2020-09-06T17:12:42.772283Z",
     "iopub.status.busy": "2020-09-06T17:12:42.771405Z",
     "iopub.status.idle": "2020-09-06T17:12:42.780027Z",
     "shell.execute_reply": "2020-09-06T17:12:42.779448Z"
    },
    "papermill": {
     "duration": 0.04371,
     "end_time": "2020-09-06T17:12:42.780163",
     "exception": false,
     "start_time": "2020-09-06T17:12:42.736453",
     "status": "completed"
    },
    "tags": []
   },
   "outputs": [
    {
     "name": "stdout",
     "output_type": "stream",
     "text": [
      "Original array\n",
      "\n",
      "Modified array\n"
     ]
    },
    {
     "data": {
      "text/plain": [
       "array([[6, 7, 8],\n",
       "       [3, 4, 5],\n",
       "       [0, 1, 2]])"
      ]
     },
     "execution_count": 19,
     "metadata": {},
     "output_type": "execute_result"
    }
   ],
   "source": [
    "# Question: Reverse the rows of a 2D array arr.\n",
    "\n",
    "# Input:\n",
    "\n",
    "arr = np.arange(9).reshape(3,3)\n",
    "\n",
    "print('Original array')\n",
    "arr\n",
    "\n",
    "# Solution\n",
    "\n",
    "print(\"\\nModified array\")\n",
    "arr[::-1, :]"
   ]
  },
  {
   "cell_type": "code",
   "execution_count": 20,
   "metadata": {
    "execution": {
     "iopub.execute_input": "2020-09-06T17:12:42.900334Z",
     "iopub.status.busy": "2020-09-06T17:12:42.899168Z",
     "iopub.status.idle": "2020-09-06T17:12:42.909050Z",
     "shell.execute_reply": "2020-09-06T17:12:42.908287Z"
    },
    "papermill": {
     "duration": 0.045381,
     "end_time": "2020-09-06T17:12:42.909173",
     "exception": false,
     "start_time": "2020-09-06T17:12:42.863792",
     "status": "completed"
    },
    "tags": []
   },
   "outputs": [
    {
     "name": "stdout",
     "output_type": "stream",
     "text": [
      "Original array\n",
      "\n",
      "Modified array\n"
     ]
    },
    {
     "data": {
      "text/plain": [
       "array([[2, 1, 0],\n",
       "       [5, 4, 3],\n",
       "       [8, 7, 6]])"
      ]
     },
     "execution_count": 20,
     "metadata": {},
     "output_type": "execute_result"
    }
   ],
   "source": [
    "# Question: Reverse the columns of a 2D array arr.\n",
    "\n",
    "# Input: arr = np.arange(9).reshape(3,3)\n",
    "\n",
    "# Solution\n",
    "\n",
    "arr = np.arange(9).reshape(3,3)\n",
    "print('Original array')\n",
    "arr\n",
    "\n",
    "\n",
    "print(\"\\nModified array\")\n",
    "arr[:, ::-1]"
   ]
  },
  {
   "cell_type": "code",
   "execution_count": 21,
   "metadata": {
    "execution": {
     "iopub.execute_input": "2020-09-06T17:12:43.034217Z",
     "iopub.status.busy": "2020-09-06T17:12:43.033217Z",
     "iopub.status.idle": "2020-09-06T17:12:43.038208Z",
     "shell.execute_reply": "2020-09-06T17:12:43.037602Z"
    },
    "papermill": {
     "duration": 0.042496,
     "end_time": "2020-09-06T17:12:43.038382",
     "exception": false,
     "start_time": "2020-09-06T17:12:42.995886",
     "status": "completed"
    },
    "tags": []
   },
   "outputs": [
    {
     "data": {
      "text/plain": [
       "array([[6.87002046, 9.61643417, 6.06037858],\n",
       "       [6.68709556, 9.55509519, 8.84574836],\n",
       "       [7.77841326, 7.0560554 , 5.36966421],\n",
       "       [5.13337423, 9.14736216, 9.00253587],\n",
       "       [5.4988653 , 5.93242979, 8.27820228]])"
      ]
     },
     "execution_count": 21,
     "metadata": {},
     "output_type": "execute_result"
    }
   ],
   "source": [
    "# Question: Create a 2D array of shape 5x3 to contain random decimal numbers between 5 and 10.\n",
    "\n",
    "# Solution:\n",
    "\n",
    "rand_arr = np.random.uniform(5,10, size=(5,3))\n",
    "rand_arr"
   ]
  },
  {
   "cell_type": "code",
   "execution_count": 22,
   "metadata": {
    "execution": {
     "iopub.execute_input": "2020-09-06T17:12:43.295663Z",
     "iopub.status.busy": "2020-09-06T17:12:43.294847Z",
     "iopub.status.idle": "2020-09-06T17:12:43.301593Z",
     "shell.execute_reply": "2020-09-06T17:12:43.302370Z"
    },
    "papermill": {
     "duration": 0.044973,
     "end_time": "2020-09-06T17:12:43.302534",
     "exception": false,
     "start_time": "2020-09-06T17:12:43.257561",
     "status": "completed"
    },
    "tags": []
   },
   "outputs": [
    {
     "data": {
      "text/plain": [
       "array([[0.0005434 , 0.00027837, 0.00042452],\n",
       "       [0.00084478, 0.00000472, 0.00012157],\n",
       "       [0.00067075, 0.00082585, 0.00013671]])"
      ]
     },
     "execution_count": 22,
     "metadata": {},
     "output_type": "execute_result"
    }
   ],
   "source": [
    "# Pretty print rand_arr by suppressing the scientific notation (like 1e10)\n",
    "\n",
    "# Input: \n",
    "# Create the random array\n",
    "np.random.seed(100)\n",
    "rand_arr = np.random.random([3,3])/1e3\n",
    "np.set_printoptions(suppress=False)\n",
    "rand_arr\n",
    "\n",
    "# Output:\n",
    "#> array([[ 0.000543,  0.000278,  0.000425],\n",
    "#>        [ 0.000845,  0.000005,  0.000122],\n",
    "#>        [ 0.000671,  0.000826,  0.000137]])\n",
    "\n",
    "np.set_printoptions(suppress=True)\n",
    "rand_arr\n",
    "#> array([[ 0.000543,  0.000278,  0.000425],\n",
    "#>        [ 0.000845,  0.000005,  0.000122],\n",
    "#>        [ 0.000671,  0.000826,  0.000137]])"
   ]
  },
  {
   "cell_type": "code",
   "execution_count": 23,
   "metadata": {
    "execution": {
     "iopub.execute_input": "2020-09-06T17:12:43.430018Z",
     "iopub.status.busy": "2020-09-06T17:12:43.428878Z",
     "iopub.status.idle": "2020-09-06T17:12:43.433690Z",
     "shell.execute_reply": "2020-09-06T17:12:43.433001Z"
    },
    "papermill": {
     "duration": 0.041069,
     "end_time": "2020-09-06T17:12:43.433826",
     "exception": false,
     "start_time": "2020-09-06T17:12:43.392757",
     "status": "completed"
    },
    "tags": []
   },
   "outputs": [
    {
     "data": {
      "text/plain": [
       "array([ 0,  1,  2, ..., 12, 13, 14])"
      ]
     },
     "execution_count": 23,
     "metadata": {},
     "output_type": "execute_result"
    }
   ],
   "source": [
    "# Question: Limit the number of items printed in python numpy array a to a maximum of 6 elements.\n",
    "a = np.arange(15)\n",
    "np.set_printoptions(threshold=6)\n",
    "a"
   ]
  },
  {
   "cell_type": "code",
   "execution_count": 24,
   "metadata": {
    "execution": {
     "iopub.execute_input": "2020-09-06T17:12:43.561128Z",
     "iopub.status.busy": "2020-09-06T17:12:43.560088Z",
     "iopub.status.idle": "2020-09-06T17:12:43.564339Z",
     "shell.execute_reply": "2020-09-06T17:12:43.564878Z"
    },
    "papermill": {
     "duration": 0.041433,
     "end_time": "2020-09-06T17:12:43.565049",
     "exception": false,
     "start_time": "2020-09-06T17:12:43.523616",
     "status": "completed"
    },
    "tags": []
   },
   "outputs": [
    {
     "data": {
      "text/plain": [
       "array([ 0,  1,  2,  3,  4,  5,  6,  7,  8,  9, 10, 11, 12, 13, 14])"
      ]
     },
     "execution_count": 24,
     "metadata": {},
     "output_type": "execute_result"
    }
   ],
   "source": [
    "# Question: Print the full numpy array a without truncating.\n",
    "\n",
    "# Input: np.set_printoptions(threshold=6)\n",
    "# a = np.arange(15)\n",
    "# a\n",
    "\n",
    "# Output: a\n",
    "#> array([ 0,  1,  2,  3,  4,  5,  6,  7,  8,  9, 10, 11, 12, 13, 14])\n",
    "\n",
    "# Solution\n",
    "\n",
    "a = np.arange(15)\n",
    "\n",
    "\n",
    "np.set_printoptions(threshold=15)\n",
    "a"
   ]
  },
  {
   "cell_type": "code",
   "execution_count": 25,
   "metadata": {
    "execution": {
     "iopub.execute_input": "2020-09-06T17:12:43.691945Z",
     "iopub.status.busy": "2020-09-06T17:12:43.690999Z",
     "iopub.status.idle": "2020-09-06T17:12:43.706913Z",
     "shell.execute_reply": "2020-09-06T17:12:43.706102Z"
    },
    "papermill": {
     "duration": 0.052006,
     "end_time": "2020-09-06T17:12:43.707050",
     "exception": false,
     "start_time": "2020-09-06T17:12:43.655044",
     "status": "completed"
    },
    "tags": []
   },
   "outputs": [
    {
     "data": {
      "text/plain": [
       "array([[b'1', b'5.1', b'3.5', b'1.4', b'0.2', b'Iris-setosa'],\n",
       "       [b'2', b'4.9', b'3.0', b'1.4', b'0.2', b'Iris-setosa'],\n",
       "       [b'3', b'4.7', b'3.2', b'1.3', b'0.2', b'Iris-setosa'],\n",
       "       ...,\n",
       "       [b'148', b'6.5', b'3.0', b'5.2', b'2.0', b'Iris-virginica'],\n",
       "       [b'149', b'6.2', b'3.4', b'5.4', b'2.3', b'Iris-virginica'],\n",
       "       [b'150', b'5.9', b'3.0', b'5.1', b'1.8', b'Iris-virginica']],\n",
       "      dtype=object)"
      ]
     },
     "execution_count": 25,
     "metadata": {},
     "output_type": "execute_result"
    }
   ],
   "source": [
    "# Question: Import the iris dataset keeping the text intact.\n",
    "\n",
    "# Solution:\n",
    "iris_data = np.genfromtxt('Iris.csv', delimiter=',', skip_header=1, \n",
    "                          usecols = [0,1,2,3,4,5], dtype = object)\n",
    "iris_data"
   ]
  },
  {
   "cell_type": "code",
   "execution_count": 26,
   "metadata": {
    "execution": {
     "iopub.execute_input": "2020-09-06T17:12:43.834450Z",
     "iopub.status.busy": "2020-09-06T17:12:43.833575Z",
     "iopub.status.idle": "2020-09-06T17:12:43.841860Z",
     "shell.execute_reply": "2020-09-06T17:12:43.841164Z"
    },
    "papermill": {
     "duration": 0.044382,
     "end_time": "2020-09-06T17:12:43.842001",
     "exception": false,
     "start_time": "2020-09-06T17:12:43.797619",
     "status": "completed"
    },
    "tags": []
   },
   "outputs": [
    {
     "data": {
      "text/plain": [
       "array([b'Iris-setosa', b'Iris-setosa', b'Iris-setosa', ...,\n",
       "       b'Iris-virginica', b'Iris-virginica', b'Iris-virginica'],\n",
       "      dtype=object)"
      ]
     },
     "execution_count": 26,
     "metadata": {},
     "output_type": "execute_result"
    }
   ],
   "source": [
    "# Question-26: Extract the text column species from the 1D iris imported in previous question.\n",
    "\n",
    "data = np.genfromtxt('Iris.csv', delimiter=',', skip_header=1, \n",
    "                          usecols = [-1], dtype = object)\n",
    "data"
   ]
  },
  {
   "cell_type": "code",
   "execution_count": 27,
   "metadata": {
    "execution": {
     "iopub.execute_input": "2020-09-06T17:12:43.969874Z",
     "iopub.status.busy": "2020-09-06T17:12:43.969053Z",
     "iopub.status.idle": "2020-09-06T17:12:43.977558Z",
     "shell.execute_reply": "2020-09-06T17:12:43.976879Z"
    },
    "papermill": {
     "duration": 0.044812,
     "end_time": "2020-09-06T17:12:43.977691",
     "exception": false,
     "start_time": "2020-09-06T17:12:43.932879",
     "status": "completed"
    },
    "tags": []
   },
   "outputs": [
    {
     "data": {
      "text/plain": [
       "array([[  1. ,   5.1,   3.5,   1.4],\n",
       "       [  2. ,   4.9,   3. ,   1.4],\n",
       "       [  3. ,   4.7,   3.2,   1.3],\n",
       "       ...,\n",
       "       [148. ,   6.5,   3. ,   5.2],\n",
       "       [149. ,   6.2,   3.4,   5.4],\n",
       "       [150. ,   5.9,   3. ,   5.1]])"
      ]
     },
     "execution_count": 27,
     "metadata": {},
     "output_type": "execute_result"
    }
   ],
   "source": [
    "# Question: Convert the 1D iris to 2D array iris_2d by omitting the species text field.\n",
    "iris_data = np.genfromtxt('Iris.csv', delimiter=',', skip_header=1, dtype='float', usecols=[0,1,2,3])\n",
    "iris_data"
   ]
  },
  {
   "cell_type": "code",
   "execution_count": 28,
   "metadata": {
    "execution": {
     "iopub.execute_input": "2020-09-06T17:12:44.108501Z",
     "iopub.status.busy": "2020-09-06T17:12:44.107617Z",
     "iopub.status.idle": "2020-09-06T17:12:44.117050Z",
     "shell.execute_reply": "2020-09-06T17:12:44.116248Z"
    },
    "papermill": {
     "duration": 0.047153,
     "end_time": "2020-09-06T17:12:44.117195",
     "exception": false,
     "start_time": "2020-09-06T17:12:44.070042",
     "status": "completed"
    },
    "tags": []
   },
   "outputs": [
    {
     "name": "stdout",
     "output_type": "stream",
     "text": [
      "Mean 5.843333333333334\n",
      "Median 5.8\n",
      "Standard Deviation 0.8253012917851409\n"
     ]
    }
   ],
   "source": [
    "# Question: Find the mean, median, standard deviation of iris's sepallength (1st column)\n",
    "\n",
    "iris_data = np.genfromtxt('Iris.csv', delimiter=',', skip_header=1, usecols = [1])\n",
    "\n",
    "print('Mean', np.mean(iris_data))\n",
    "print('Median', np.median(iris_data))\n",
    "print('Standard Deviation', np.std(iris_data))"
   ]
  },
  {
   "cell_type": "code",
   "execution_count": 29,
   "metadata": {
    "execution": {
     "iopub.execute_input": "2020-09-06T17:12:44.247711Z",
     "iopub.status.busy": "2020-09-06T17:12:44.246749Z",
     "iopub.status.idle": "2020-09-06T17:12:44.257261Z",
     "shell.execute_reply": "2020-09-06T17:12:44.256327Z"
    },
    "papermill": {
     "duration": 0.048897,
     "end_time": "2020-09-06T17:12:44.257442",
     "exception": false,
     "start_time": "2020-09-06T17:12:44.208545",
     "status": "completed"
    },
    "tags": []
   },
   "outputs": [
    {
     "data": {
      "text/plain": [
       "array([0.22222222, 0.16666667, 0.11111111, ..., 0.61111111, 0.52777778,\n",
       "       0.44444444])"
      ]
     },
     "execution_count": 29,
     "metadata": {},
     "output_type": "execute_result"
    }
   ],
   "source": [
    "# Question: Create a normalized form of iris's sepallength whose values range \n",
    "#           exactly between 0 and 1 so that the minimum has value 0 and maximum has value 1.\n",
    "\n",
    "# Solution\n",
    "\n",
    "iris_data = np.genfromtxt('Iris.csv', delimiter=',', dtype='float', usecols=[1], skip_header=1)\n",
    "\n",
    "(iris_data - np.min(iris_data))/(np.max(iris_data) - np.min(iris_data))"
   ]
  },
  {
   "cell_type": "code",
   "execution_count": 30,
   "metadata": {
    "execution": {
     "iopub.execute_input": "2020-09-06T17:12:44.388057Z",
     "iopub.status.busy": "2020-09-06T17:12:44.387260Z",
     "iopub.status.idle": "2020-09-06T17:12:44.402206Z",
     "shell.execute_reply": "2020-09-06T17:12:44.401540Z"
    },
    "papermill": {
     "duration": 0.052877,
     "end_time": "2020-09-06T17:12:44.402348",
     "exception": false,
     "start_time": "2020-09-06T17:12:44.349471",
     "status": "completed"
    },
    "tags": []
   },
   "outputs": [
    {
     "data": {
      "text/plain": [
       "array([0.00221959, 0.00181724, 0.00148783, ..., 0.00900086, 0.006668  ,\n",
       "       0.00493978])"
      ]
     },
     "execution_count": 30,
     "metadata": {},
     "output_type": "execute_result"
    }
   ],
   "source": [
    "# Question: Compute the softmax score of sepallength.\n",
    "\n",
    "iris_data = np.genfromtxt('Iris.csv', delimiter=',', dtype='float', usecols=[1], skip_header=1)\n",
    "softmax = np.exp(iris_data)/sum(np.exp(iris_data))\n",
    "softmax.sum() # it must sum 1\n",
    "softmax"
   ]
  },
  {
   "cell_type": "code",
   "execution_count": 31,
   "metadata": {
    "execution": {
     "iopub.execute_input": "2020-09-06T17:12:44.540273Z",
     "iopub.status.busy": "2020-09-06T17:12:44.539329Z",
     "iopub.status.idle": "2020-09-06T17:12:44.548367Z",
     "shell.execute_reply": "2020-09-06T17:12:44.547586Z"
    },
    "papermill": {
     "duration": 0.046913,
     "end_time": "2020-09-06T17:12:44.548496",
     "exception": false,
     "start_time": "2020-09-06T17:12:44.501583",
     "status": "completed"
    },
    "tags": []
   },
   "outputs": [
    {
     "data": {
      "text/plain": [
       "array([4.6  , 7.255])"
      ]
     },
     "execution_count": 31,
     "metadata": {},
     "output_type": "execute_result"
    }
   ],
   "source": [
    "# Question. Find the 5th and 95th percentile of iris's sepallength\n",
    "iris_data = np.genfromtxt('Iris.csv', delimiter=',', dtype='float', usecols=[1], skip_header=1)\n",
    "\n",
    "np.percentile(iris_data, q=[5, 95])"
   ]
  },
  {
   "cell_type": "code",
   "execution_count": 32,
   "metadata": {
    "execution": {
     "iopub.execute_input": "2020-09-06T17:12:44.682894Z",
     "iopub.status.busy": "2020-09-06T17:12:44.681826Z",
     "iopub.status.idle": "2020-09-06T17:12:44.691766Z",
     "shell.execute_reply": "2020-09-06T17:12:44.692358Z"
    },
    "papermill": {
     "duration": 0.049696,
     "end_time": "2020-09-06T17:12:44.692530",
     "exception": false,
     "start_time": "2020-09-06T17:12:44.642834",
     "status": "completed"
    },
    "tags": []
   },
   "outputs": [
    {
     "data": {
      "text/plain": [
       "array([[5.1, 3.5, 1.4, 0.2],\n",
       "       [4.9, 3. , 1.4, 0.2],\n",
       "       [4.7, 3.2, 1.3, 0.2],\n",
       "       ...,\n",
       "       [6.5, 3. , 5.2, 2. ],\n",
       "       [6.2, 3.4, 5.4, 2.3],\n",
       "       [5.9, 3. , 5.1, 1.8]])"
      ]
     },
     "execution_count": 32,
     "metadata": {},
     "output_type": "execute_result"
    }
   ],
   "source": [
    "# Question: Insert np.nan values at 20 random positions in iris_2d dataset\n",
    "\n",
    "# Solution\n",
    "iris_data = np.genfromtxt('Iris.csv', delimiter=',', dtype='float', usecols=[1,2,3,4], skip_header=1)\n",
    "for i in np.random.randint(0, len(iris_data), 20):\n",
    "    iris_data[i]=np.nan\n",
    "iris_data"
   ]
  },
  {
   "cell_type": "code",
   "execution_count": 33,
   "metadata": {
    "execution": {
     "iopub.execute_input": "2020-09-06T17:12:44.830138Z",
     "iopub.status.busy": "2020-09-06T17:12:44.829349Z",
     "iopub.status.idle": "2020-09-06T17:12:44.837873Z",
     "shell.execute_reply": "2020-09-06T17:12:44.836869Z"
    },
    "papermill": {
     "duration": 0.051042,
     "end_time": "2020-09-06T17:12:44.838043",
     "exception": false,
     "start_time": "2020-09-06T17:12:44.787001",
     "status": "completed"
    },
    "tags": []
   },
   "outputs": [
    {
     "name": "stdout",
     "output_type": "stream",
     "text": [
      "Number of missing values in Iris data: \n",
      " 20\n",
      "Number of missing values in any one feature of Iris data: \n",
      " 5\n",
      "Position of missing values: \n",
      " (array([ 38,  80, 106, 113, 121], dtype=int64),)\n"
     ]
    }
   ],
   "source": [
    "# Question: Find the number and position of missing values in iris_2d's sepallength (1st column)\n",
    "\n",
    "iris_data = np.genfromtxt('Iris.csv', delimiter=',', dtype='float', usecols=[1,2,3,4], skip_header=1)\n",
    "iris_data[np.random.randint(len(iris_data), size=20),np.random.randint(4,size=20)] = np.nan\n",
    "\n",
    "# Find total mising value in complete data\n",
    "print(\"Number of missing values in Iris data: \\n\", np.isnan(iris_data[:, :]).sum())\n",
    "\n",
    "# Find total mising value in 1D data\n",
    "print(\"Number of missing values in any one feature of Iris data: \\n\", np.isnan(iris_data[:, 0]).sum())\n",
    "\n",
    "print(\"Position of missing values: \\n\", np.where(np.isnan(iris_data[:, 0])))"
   ]
  },
  {
   "cell_type": "code",
   "execution_count": 34,
   "metadata": {
    "execution": {
     "iopub.execute_input": "2020-09-06T17:12:44.975767Z",
     "iopub.status.busy": "2020-09-06T17:12:44.974944Z",
     "iopub.status.idle": "2020-09-06T17:12:44.983994Z",
     "shell.execute_reply": "2020-09-06T17:12:44.983159Z"
    },
    "papermill": {
     "duration": 0.049114,
     "end_time": "2020-09-06T17:12:44.984136",
     "exception": false,
     "start_time": "2020-09-06T17:12:44.935022",
     "status": "completed"
    },
    "tags": []
   },
   "outputs": [
    {
     "data": {
      "text/plain": [
       "array([[4.8, 3.4, 1.6, 0.2],\n",
       "       [4.8, 3.4, 1.9, 0.2],\n",
       "       [4.7, 3.2, 1.6, 0.2],\n",
       "       [4.8, 3.1, 1.6, 0.2],\n",
       "       [4.9, 2.4, 3.3, 1. ],\n",
       "       [4.9, 2.5, 4.5, 1.7]])"
      ]
     },
     "execution_count": 34,
     "metadata": {},
     "output_type": "execute_result"
    }
   ],
   "source": [
    "# Question: Filter the rows of iris_2d that has petallength (3rd column) > 1.5 and sepallength (1st column) < 5.0\n",
    "\n",
    "iris_data = np.genfromtxt('Iris.csv', delimiter=',', dtype='float', usecols=[1,2,3,4], skip_header=1)\n",
    "\n",
    "# Solution\n",
    "iris_data[(iris_data[:, 2] > 1.5) & (iris_data[:, 0] < 5.0)]"
   ]
  },
  {
   "cell_type": "code",
   "execution_count": 35,
   "metadata": {
    "execution": {
     "iopub.execute_input": "2020-09-06T17:12:45.122749Z",
     "iopub.status.busy": "2020-09-06T17:12:45.121878Z",
     "iopub.status.idle": "2020-09-06T17:12:45.167874Z",
     "shell.execute_reply": "2020-09-06T17:12:45.167019Z"
    },
    "papermill": {
     "duration": 0.087202,
     "end_time": "2020-09-06T17:12:45.168015",
     "exception": false,
     "start_time": "2020-09-06T17:12:45.080813",
     "status": "completed"
    },
    "tags": []
   },
   "outputs": [
    {
     "data": {
      "text/plain": [
       "array([[  1.   ,  85.   ,  66.   , ...,  26.6  ,   0.351,  31.   ],\n",
       "       [  8.   , 183.   ,  64.   , ...,  23.3  ,   0.672,  32.   ],\n",
       "       [  1.   ,  89.   ,  66.   , ...,  28.1  ,   0.167,  21.   ],\n",
       "       [  0.   , 137.   ,  40.   , ...,  43.1  ,   2.288,  33.   ],\n",
       "       [  3.   ,  78.   ,  50.   , ...,  31.   ,   0.248,  26.   ]])"
      ]
     },
     "execution_count": 35,
     "metadata": {},
     "output_type": "execute_result"
    }
   ],
   "source": [
    "# Question: Select the rows of iris_2d that does not have any nan value.\n",
    "\n",
    "diabetes_data = np.genfromtxt('diabetes.csv', delimiter=',',\n",
    "                              dtype='float', usecols=[0,1,2,3,4,5,6,7], skip_header=1)\n",
    "diabetes_data[np.random.randint(150, size=20), np.random.randint(4, size=20)] = np.nan\n",
    "diabetes_data[np.sum(np.isnan(diabetes_data), axis = 1) == 0][:5]"
   ]
  },
  {
   "cell_type": "code",
   "execution_count": 36,
   "metadata": {
    "execution": {
     "iopub.execute_input": "2020-09-06T17:12:45.338268Z",
     "iopub.status.busy": "2020-09-06T17:12:45.337411Z",
     "iopub.status.idle": "2020-09-06T17:12:45.394432Z",
     "shell.execute_reply": "2020-09-06T17:12:45.393723Z"
    },
    "papermill": {
     "duration": 0.128917,
     "end_time": "2020-09-06T17:12:45.394568",
     "exception": false,
     "start_time": "2020-09-06T17:12:45.265651",
     "status": "completed"
    },
    "tags": []
   },
   "outputs": [
    {
     "name": "stdout",
     "output_type": "stream",
     "text": [
      "[[1.         0.22107107]\n",
      " [0.22107107 1.        ]]\n",
      "\n",
      "\n",
      "0.2210710694589828\n"
     ]
    }
   ],
   "source": [
    "# question: Find the correlation between SepalLength(1st column) and PetalLength(3rd column) in iris_2d\n",
    "# insted or using iris data I am going to used pima diabetes data and going to find corelation \n",
    "# between BP(1st column) and BMI (5th column).\n",
    "\n",
    "diabetes_data = np.genfromtxt('diabetes.csv',\n",
    "                              delimiter=',', dtype='float', usecols=[0,1,2,3,4,5,6,7], skip_header=1)\n",
    "\n",
    "print(np.corrcoef(diabetes_data[:, 1], diabetes_data[:, 5]))\n",
    "\n",
    "print('\\n')\n",
    "# you can get correlation by getting value at index [0,1] or [1,0]\n",
    "print(np.corrcoef(diabetes_data[:, 1], diabetes_data[:, 5])[0,1])"
   ]
  },
  {
   "cell_type": "code",
   "execution_count": 37,
   "metadata": {
    "execution": {
     "iopub.execute_input": "2020-09-06T17:12:46.649790Z",
     "iopub.status.busy": "2020-09-06T17:12:46.648972Z",
     "iopub.status.idle": "2020-09-06T17:12:46.676072Z",
     "shell.execute_reply": "2020-09-06T17:12:46.675247Z"
    },
    "papermill": {
     "duration": 0.068841,
     "end_time": "2020-09-06T17:12:46.676214",
     "exception": false,
     "start_time": "2020-09-06T17:12:46.607373",
     "status": "completed"
    },
    "tags": []
   },
   "outputs": [
    {
     "data": {
      "text/plain": [
       "110.0"
      ]
     },
     "execution_count": 37,
     "metadata": {},
     "output_type": "execute_result"
    }
   ],
   "source": [
    "# Question: What is the value of second longest petallength of species setosa\n",
    "# For this question I am going to find second highest bloodpressure (2nd column) where outcome is 1\n",
    "diabetes_data = np.genfromtxt('diabetes.csv',\n",
    "                              delimiter=',', dtype=object, usecols=[0,1,2,3,4,5,6,7,8], skip_header=1)\n",
    "\n",
    "# Solution\n",
    "bloodpressure= diabetes_data[diabetes_data[:, 8]==b'1', [2]].astype('float')\n",
    "\n",
    "np.unique(np.sort(bloodpressure))[-2]"
   ]
  },
  {
   "cell_type": "code",
   "execution_count": 38,
   "metadata": {
    "execution": {
     "iopub.execute_input": "2020-09-06T17:12:46.818550Z",
     "iopub.status.busy": "2020-09-06T17:12:46.817733Z",
     "iopub.status.idle": "2020-09-06T17:12:46.844567Z",
     "shell.execute_reply": "2020-09-06T17:12:46.843849Z"
    },
    "papermill": {
     "duration": 0.067907,
     "end_time": "2020-09-06T17:12:46.844718",
     "exception": false,
     "start_time": "2020-09-06T17:12:46.776811",
     "status": "completed"
    },
    "tags": []
   },
   "outputs": [
    {
     "data": {
      "text/plain": [
       "array([[b'1', b'0', b'74', ..., b'0.299', b'21', b'0'],\n",
       "       [b'5', b'0', b'80', ..., b'0.346', b'37', b'1'],\n",
       "       [b'1', b'0', b'68', ..., b'0.389', b'22', b'0'],\n",
       "       ...,\n",
       "       [b'4', b'99', b'72', ..., b'0.294', b'28', b'0'],\n",
       "       [b'4', b'99', b'76', ..., b'0.223', b'21', b'0'],\n",
       "       [b'2', b'99', b'60', ..., b'0.453', b'21', b'0']], dtype=object)"
      ]
     },
     "execution_count": 38,
     "metadata": {},
     "output_type": "execute_result"
    }
   ],
   "source": [
    "# Question: Sort the iris dataset based on sepallength column.\n",
    "# In this problem, I am going to sort the diabetes dataset based on Glucose (1th column)\n",
    "diabetes_data = np.genfromtxt('diabetes.csv',\n",
    "                              delimiter=',', dtype=object, usecols=[0,1,2,3,4,5,6,7,8], skip_header=1)\n",
    "\n",
    "diabetes_data[diabetes_data[:,1].argsort()]"
   ]
  },
  {
   "cell_type": "code",
   "execution_count": 39,
   "metadata": {
    "execution": {
     "iopub.execute_input": "2020-09-06T17:12:46.988837Z",
     "iopub.status.busy": "2020-09-06T17:12:46.987997Z",
     "iopub.status.idle": "2020-09-06T17:12:46.997105Z",
     "shell.execute_reply": "2020-09-06T17:12:46.996353Z"
    },
    "papermill": {
     "duration": 0.050232,
     "end_time": "2020-09-06T17:12:46.997247",
     "exception": false,
     "start_time": "2020-09-06T17:12:46.947015",
     "status": "completed"
    },
    "tags": []
   },
   "outputs": [
    {
     "data": {
      "text/plain": [
       "b'1.5'"
      ]
     },
     "execution_count": 39,
     "metadata": {},
     "output_type": "execute_result"
    }
   ],
   "source": [
    "# Question: Find the most frequent value of petal length (3rd column) in iris dataset.\n",
    "\n",
    "iris_data = np.genfromtxt('Iris.csv', delimiter=',', \n",
    "                          dtype=object, usecols=[1,2,3,4,5], skip_header=1)\n",
    "\n",
    "v,c = np.unique(iris_data[:, 2], return_counts=True)\n",
    "v[np.argmax(c)]"
   ]
  },
  {
   "cell_type": "code",
   "execution_count": 40,
   "metadata": {
    "execution": {
     "iopub.execute_input": "2020-09-06T17:12:47.141924Z",
     "iopub.status.busy": "2020-09-06T17:12:47.141085Z",
     "iopub.status.idle": "2020-09-06T17:12:47.148525Z",
     "shell.execute_reply": "2020-09-06T17:12:47.147742Z"
    },
    "papermill": {
     "duration": 0.048053,
     "end_time": "2020-09-06T17:12:47.148654",
     "exception": false,
     "start_time": "2020-09-06T17:12:47.100601",
     "status": "completed"
    },
    "tags": []
   },
   "outputs": [
    {
     "data": {
      "text/plain": [
       "array([50], dtype=int64)"
      ]
     },
     "execution_count": 40,
     "metadata": {},
     "output_type": "execute_result"
    }
   ],
   "source": [
    "# Question: Find the position of the first occurrence of a value greater than 1.0 in \n",
    "# petalwidth 4th column of iris dataset.\n",
    "iris_data = np.genfromtxt('Iris.csv', delimiter=',', \n",
    "                          dtype=object, usecols=[4], skip_header=1)\n",
    "\n",
    "np.argwhere(iris_data[:].astype(float) > 1.0)[0]"
   ]
  },
  {
   "cell_type": "code",
   "execution_count": 41,
   "metadata": {
    "execution": {
     "iopub.execute_input": "2020-09-06T17:12:47.297120Z",
     "iopub.status.busy": "2020-09-06T17:12:47.295966Z",
     "iopub.status.idle": "2020-09-06T17:12:47.301233Z",
     "shell.execute_reply": "2020-09-06T17:12:47.300470Z"
    },
    "papermill": {
     "duration": 0.049517,
     "end_time": "2020-09-06T17:12:47.301389",
     "exception": false,
     "start_time": "2020-09-06T17:12:47.251872",
     "status": "completed"
    },
    "tags": []
   },
   "outputs": [
    {
     "data": {
      "text/plain": [
       "array([27.63, 14.64, 21.8 , 30.  , 10.  , 10.  , 30.  , 30.  , 10.  ,\n",
       "       29.18, 30.  , 11.25, 10.08, 10.  , 11.77, 30.  , 30.  , 10.  ,\n",
       "       30.  , 14.43])"
      ]
     },
     "execution_count": 41,
     "metadata": {},
     "output_type": "execute_result"
    }
   ],
   "source": [
    "# Question: From the array a, replace all values greater than 30 to 30 and less than 10 to 10.\n",
    "\n",
    "# Solution\n",
    "\n",
    "np.set_printoptions(precision=2)\n",
    "np.random.seed(100)\n",
    "a = np.random.uniform(1,50, 20)\n",
    "\n",
    "a[a<10]=10\n",
    "a[a>30]=30\n",
    "np.set_printoptions(threshold=20)\n",
    "a"
   ]
  },
  {
   "cell_type": "code",
   "execution_count": 42,
   "metadata": {
    "execution": {
     "iopub.execute_input": "2020-09-06T17:12:47.459966Z",
     "iopub.status.busy": "2020-09-06T17:12:47.458805Z",
     "iopub.status.idle": "2020-09-06T17:12:47.484405Z",
     "shell.execute_reply": "2020-09-06T17:12:47.483337Z"
    },
    "papermill": {
     "duration": 0.079753,
     "end_time": "2020-09-06T17:12:47.484632",
     "exception": false,
     "start_time": "2020-09-06T17:12:47.404879",
     "status": "completed"
    },
    "tags": []
   },
   "outputs": [
    {
     "name": "stdout",
     "output_type": "stream",
     "text": [
      "Positions\n",
      "Values\n"
     ]
    },
    {
     "data": {
      "text/plain": [
       "array([48.95, 44.67, 42.39, 41.47, 41.  ])"
      ]
     },
     "execution_count": 42,
     "metadata": {},
     "output_type": "execute_result"
    }
   ],
   "source": [
    "# Question: Get the positions of top 5 maximum values in a given array a.\n",
    "np.random.seed(100)\n",
    "a = np.random.uniform(1,50, 20)\n",
    "a\n",
    "sort = a.argsort()\n",
    "print('Positions')\n",
    "sort[-5:][::-1]\n",
    "print('Values')\n",
    "a[sort][-5:][::-1]"
   ]
  },
  {
   "cell_type": "code",
   "execution_count": 43,
   "metadata": {
    "execution": {
     "iopub.execute_input": "2020-09-06T17:12:47.656180Z",
     "iopub.status.busy": "2020-09-06T17:12:47.651505Z",
     "iopub.status.idle": "2020-09-06T17:12:47.669111Z",
     "shell.execute_reply": "2020-09-06T17:12:47.669737Z"
    },
    "papermill": {
     "duration": 0.062656,
     "end_time": "2020-09-06T17:12:47.669897",
     "exception": false,
     "start_time": "2020-09-06T17:12:47.607241",
     "status": "completed"
    },
    "tags": []
   },
   "outputs": [
    {
     "name": "stdout",
     "output_type": "stream",
     "text": [
      "[ 1  2  3  4  5  6  7  8  9 10]\n"
     ]
    },
    {
     "data": {
      "text/plain": [
       "[[1, 0, 2, 1, 1, 1, 0, 2, 2, 0],\n",
       " [2, 1, 3, 0, 1, 0, 1, 0, 1, 1],\n",
       " [0, 3, 0, 2, 3, 1, 0, 1, 0, 0],\n",
       " [1, 0, 2, 1, 0, 1, 0, 2, 1, 2],\n",
       " [2, 2, 2, 0, 0, 1, 1, 1, 1, 0],\n",
       " [1, 1, 1, 1, 1, 2, 0, 0, 2, 1]]"
      ]
     },
     "execution_count": 43,
     "metadata": {},
     "output_type": "execute_result"
    }
   ],
   "source": [
    "# Question: Compute the counts of unique values row-wise.\n",
    "\n",
    "# Solution\n",
    "def counts_of_all_values_rowwise(arr2d):\n",
    "    # Unique values and its counts row wise\n",
    "    num_counts_array = [np.unique(row, return_counts=True) for row in arr2d]\n",
    "\n",
    "    # Counts of all values row wise\n",
    "    return([[int(b[a==i]) if i in a else 0 for i in np.unique(arr2d)] for a, b in num_counts_array])\n",
    "\n",
    "np.random.seed(100)\n",
    "np.set_printoptions(threshold=10)\n",
    "arr = np.random.randint(1,11,size=(6, 10))\n",
    "arr\n",
    "print(np.arange(1,11))\n",
    "counts_of_all_values_rowwise(arr)"
   ]
  },
  {
   "cell_type": "code",
   "execution_count": 44,
   "metadata": {
    "execution": {
     "iopub.execute_input": "2020-09-06T17:12:47.826071Z",
     "iopub.status.busy": "2020-09-06T17:12:47.825066Z",
     "iopub.status.idle": "2020-09-06T17:12:47.829109Z",
     "shell.execute_reply": "2020-09-06T17:12:47.829699Z"
    },
    "papermill": {
     "duration": 0.047129,
     "end_time": "2020-09-06T17:12:47.829867",
     "exception": false,
     "start_time": "2020-09-06T17:12:47.782738",
     "status": "completed"
    },
    "tags": []
   },
   "outputs": [
    {
     "name": "stdout",
     "output_type": "stream",
     "text": [
      "[0 1 2 3 4 5 6 7 8 9]\n"
     ]
    }
   ],
   "source": [
    "# Question: Convert array_of_arrays into a flat linear 1d array.\n",
    "arr1 = np.arange(3)\n",
    "arr2 = np.arange(3,7)\n",
    "arr3 = np.arange(7,10)\n",
    "\n",
    "arr_2d = np.concatenate([arr1, arr2, arr3])\n",
    "print(arr_2d)"
   ]
  },
  {
   "cell_type": "code",
   "execution_count": 45,
   "metadata": {},
   "outputs": [
    {
     "name": "stdout",
     "output_type": "stream",
     "text": [
      "[9995 9996 9997 9998 9999]\n",
      "[9999 9998 9996 9997 9995]\n"
     ]
    }
   ],
   "source": [
    "# Q-51\n",
    "\n",
    "#1 How to get the n largest values of an array ?\n",
    "Z = np.arange(10000)\n",
    "np.random.shuffle(Z)\n",
    "n = 5\n",
    "\n",
    "# Slow\n",
    "print (Z[np.argsort(Z)[-n:]])\n",
    "\n",
    "# Fast\n",
    "print (Z[np.argpartition(-Z,n)[:n]])"
   ]
  },
  {
   "cell_type": "code",
   "execution_count": 46,
   "metadata": {},
   "outputs": [
    {
     "name": "stdout",
     "output_type": "stream",
     "text": [
      "[[1 4 6]\n",
      " [1 4 7]\n",
      " [1 5 6]\n",
      " ...\n",
      " [3 4 7]\n",
      " [3 5 6]\n",
      " [3 5 7]]\n"
     ]
    }
   ],
   "source": [
    "#2 Given an arbitrary number of vectors, build the cartesian product \n",
    "#  (every combinations of every item).\n",
    "def cartesian(arrays):\n",
    "    arrays = [np.asarray(a) for a in arrays]\n",
    "    shape = (len(x) for x in arrays)\n",
    "\n",
    "    ix = np.indices(shape, dtype=int)\n",
    "    ix = ix.reshape(len(arrays), -1).T\n",
    "\n",
    "    for n, arr in enumerate(arrays):\n",
    "        ix[:, n] = arrays[n][ix[:, n]]\n",
    "\n",
    "    return ix\n",
    "\n",
    "print (cartesian(([1, 2, 3], [4, 5], [6, 7])))"
   ]
  },
  {
   "cell_type": "code",
   "execution_count": 47,
   "metadata": {},
   "outputs": [
    {
     "name": "stdout",
     "output_type": "stream",
     "text": [
      "input array\n",
      "[[1. 1. 1. ... 1. 1. 1.]\n",
      " [1. 1. 1. ... 1. 1. 1.]\n",
      " [1. 1. 1. ... 1. 1. 1.]\n",
      " ...\n",
      " [1. 1. 1. ... 1. 1. 1.]\n",
      " [1. 1. 1. ... 1. 1. 1.]\n",
      " [1. 1. 1. ... 1. 1. 1.]]\n",
      "block sum\n",
      "[[16. 16. 16. 16.]\n",
      " [16. 16. 16. 16.]\n",
      " [16. 16. 16. 16.]\n",
      " [16. 16. 16. 16.]]\n"
     ]
    }
   ],
   "source": [
    "#3 Consider a 16x16 array, how to get the blocksum (block size is 4x4)?\n",
    "Z = np.ones((16,16))\n",
    "k = 4\n",
    "S = np.add.reduceat(np.add.reduceat(Z, np.arange(0, Z.shape[0], k), axis=0), np.arange(0, Z.shape[1], k), axis=1)\n",
    "print ('input array')\n",
    "print (Z)\n",
    "print ('block sum')\n",
    "print (S)"
   ]
  },
  {
   "cell_type": "code",
   "execution_count": 48,
   "metadata": {},
   "outputs": [
    {
     "name": "stdout",
     "output_type": "stream",
     "text": [
      "10\n"
     ]
    }
   ],
   "source": [
    "#4 Compute a matrix rank.\n",
    "Z = np.random.uniform(0,1,(10,10))\n",
    "U, S, V = np.linalg.svd(Z)    # Singular Value Decomposition\n",
    "rank = np.sum(S > 1e-10)\n",
    "print (rank)"
   ]
  },
  {
   "cell_type": "code",
   "execution_count": 49,
   "metadata": {},
   "outputs": [
    {
     "name": "stdout",
     "output_type": "stream",
     "text": [
      "[3 8 7 ... 9 4 5]\n",
      "rank: 3\n"
     ]
    }
   ],
   "source": [
    "#5 How to find the most frequent value in an array?\n",
    "Z = np.random.randint(0,10,50)\n",
    "print (Z)\n",
    "print('rank:', np.bincount(Z).argmax())"
   ]
  },
  {
   "cell_type": "code",
   "execution_count": 50,
   "metadata": {},
   "outputs": [
    {
     "name": "stdout",
     "output_type": "stream",
     "text": [
      "[[[[2 3 1]\n",
      "   [0 3 3]\n",
      "   [4 0 2]]\n",
      "\n",
      "  [[3 1 2]\n",
      "   [3 3 0]\n",
      "   [0 2 2]]\n",
      "\n",
      "  [[1 2 1]\n",
      "   [3 0 0]\n",
      "   [2 2 1]]\n",
      "\n",
      "  [[2 1 2]\n",
      "   [0 0 1]\n",
      "   [2 1 3]]]\n",
      "\n",
      "\n",
      " [[[0 3 3]\n",
      "   [4 0 2]\n",
      "   [0 1 0]]\n",
      "\n",
      "  [[3 3 0]\n",
      "   [0 2 2]\n",
      "   [1 0 1]]\n",
      "\n",
      "  [[3 0 0]\n",
      "   [2 2 1]\n",
      "   [0 1 1]]\n",
      "\n",
      "  [[0 0 1]\n",
      "   [2 1 3]\n",
      "   [1 1 4]]]\n",
      "\n",
      "\n",
      " [[[4 0 2]\n",
      "   [0 1 0]\n",
      "   [1 2 0]]\n",
      "\n",
      "  [[0 2 2]\n",
      "   [1 0 1]\n",
      "   [2 0 4]]\n",
      "\n",
      "  [[2 2 1]\n",
      "   [0 1 1]\n",
      "   [0 4 4]]\n",
      "\n",
      "  [[2 1 3]\n",
      "   [1 1 4]\n",
      "   [4 4 2]]]\n",
      "\n",
      "\n",
      " [[[0 1 0]\n",
      "   [1 2 0]\n",
      "   [0 1 1]]\n",
      "\n",
      "  [[1 0 1]\n",
      "   [2 0 4]\n",
      "   [1 1 4]]\n",
      "\n",
      "  [[0 1 1]\n",
      "   [0 4 4]\n",
      "   [1 4 0]]\n",
      "\n",
      "  [[1 1 4]\n",
      "   [4 4 2]\n",
      "   [4 0 2]]]]\n"
     ]
    }
   ],
   "source": [
    "#6 Extract all the contiguous 3x3 blocks from a random 10x10 matrix.\n",
    "Z = np.random.randint(0,5,(6,6))\n",
    "n = 3\n",
    "i = 1 + (Z.shape[0]-3)\n",
    "j = 1 + (Z.shape[1]-3)\n",
    "C = np.lib.stride_tricks.as_strided(Z, shape=(i, j, n, n), strides=Z.strides + Z.strides)\n",
    "print(C)"
   ]
  }
 ],
 "metadata": {
  "kernelspec": {
   "display_name": "Python 3 (ipykernel)",
   "language": "python",
   "name": "python3"
  },
  "language_info": {
   "codemirror_mode": {
    "name": "ipython",
    "version": 3
   },
   "file_extension": ".py",
   "mimetype": "text/x-python",
   "name": "python",
   "nbconvert_exporter": "python",
   "pygments_lexer": "ipython3",
   "version": "3.11.1"
  },
  "papermill": {
   "duration": 14.061704,
   "end_time": "2020-09-06T17:12:48.120409",
   "environment_variables": {},
   "exception": null,
   "input_path": "__notebook__.ipynb",
   "output_path": "__notebook__.ipynb",
   "parameters": {},
   "start_time": "2020-09-06T17:12:34.058705",
   "version": "2.1.0"
  }
 },
 "nbformat": 4,
 "nbformat_minor": 4
}
